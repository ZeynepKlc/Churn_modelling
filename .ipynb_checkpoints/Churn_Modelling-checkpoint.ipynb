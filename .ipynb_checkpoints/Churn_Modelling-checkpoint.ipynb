{
 "cells": [
  {
   "cell_type": "markdown",
   "id": "d1b7f779",
   "metadata": {},
   "source": [
    "## Veri Seti Hikayesi"
   ]
  },
  {
   "cell_type": "markdown",
   "id": "b7d23aff",
   "metadata": {},
   "source": [
    "Veri setinde banka müşterilerinin bazı banka hesap bilgileri ve demografik özellikleri (yaş,cinsiyet,tahmini maaş vb.) ayrıntılı bilgileri mevcuttur.Müşteri kayıp analizi yaparak,  müşterilerin bankayı terk edip etmeme ihtimallerini önceden tahmin etmek istiyoruz."
   ]
  },
  {
   "cell_type": "markdown",
   "id": "4f0c8022",
   "metadata": {},
   "source": [
    "Öncelikle veri setini tanıyalım. Veri setindeki değişkenler;\n",
    "- **CustomerId:** Bankada bulunan müşterilerin kimlik numarasıdır.\n",
    "- **Surname:** Müşterilerin soyisimlerini içeren değişkendir\n",
    "- **CreditScore:** Müşterilerin kredi notlarını içeren değişkendir.\n",
    "- **Geography:** Müşterilerin ülkelerini belirten değişkendir.\n",
    "- **Gender:** Müşterilerin cinsiyetlerini belirten değişkendir.\n",
    "- **Age:** Müşterilerin yaşlarını belirten değişkendir.\n",
    "- **Tenure:** Müşterilerin bankada bulunduğu yıl sayısıdır.\n",
    "- **Balance:** Müşterilerin bankadaki parasıdır.\n",
    "- **NumOfProducts:** Müşterilerin sahip olduğu banka ürün sayılarıdır.\n",
    "- **HasCrCard:** Müşterilerin kredi kartının olup olmadığını 1 ve 0'larla gösteren değişkendir.\n",
    "- **IsActiveMember:** Müşterilerin aktif üye olup olmadıklarını gösteren değişkendir.\n",
    "- **EstimatedSalary:** Müşterilerin tahmini maaşlarıdır.\n",
    "- **Exited:** Müşterilerin bankayı terk edip etmediklerini ifade eden değişkendir.\n"
   ]
  },
  {
   "cell_type": "markdown",
   "id": "79b0ab7d",
   "metadata": {},
   "source": [
    "### Kütüphaneler"
   ]
  },
  {
   "cell_type": "code",
   "execution_count": 2,
   "id": "c0a48f8d",
   "metadata": {},
   "outputs": [],
   "source": [
    "import numpy as np\n",
    "import pandas as pd \n",
    "import seaborn as sns\n",
    "from sklearn.preprocessing import scale \n",
    "from sklearn.preprocessing import LabelEncoder\n",
    "from sklearn import preprocessing\n",
    "from sklearn import metrics\n",
    "from sklearn.model_selection import train_test_split, GridSearchCV, cross_val_score\n",
    "from sklearn.metrics import confusion_matrix, accuracy_score, classification_report\n",
    "from sklearn.metrics import roc_auc_score,roc_curve\n",
    "import matplotlib.pyplot as plt\n",
    "from sklearn.preprocessing import StandardScaler\n",
    "from sklearn.naive_bayes import GaussianNB \n",
    "from lightgbm import LGBMClassifier\n",
    "from sklearn.tree import DecisionTreeClassifier\n",
    "from xgboost import XGBClassifier\n",
    "from sklearn import tree\n",
    "from sklearn.ensemble import RandomForestClassifier\n",
    "from sklearn.ensemble import GradientBoostingClassifier\n",
    "from collections import Counter\n",
    "from imblearn.over_sampling import SMOTE\n",
    "\n",
    "from warnings import filterwarnings\n",
    "filterwarnings('ignore')"
   ]
  },
  {
   "cell_type": "code",
   "execution_count": 3,
   "id": "d14d2b13",
   "metadata": {},
   "outputs": [],
   "source": [
    "df=pd.read_csv(\"Churn_Modelling.csv\").copy()"
   ]
  },
  {
   "cell_type": "code",
   "execution_count": 5,
   "id": "40d87082",
   "metadata": {},
   "outputs": [
    {
     "data": {
      "text/html": [
       "<div>\n",
       "<style scoped>\n",
       "    .dataframe tbody tr th:only-of-type {\n",
       "        vertical-align: middle;\n",
       "    }\n",
       "\n",
       "    .dataframe tbody tr th {\n",
       "        vertical-align: top;\n",
       "    }\n",
       "\n",
       "    .dataframe thead th {\n",
       "        text-align: right;\n",
       "    }\n",
       "</style>\n",
       "<table border=\"1\" class=\"dataframe\">\n",
       "  <thead>\n",
       "    <tr style=\"text-align: right;\">\n",
       "      <th></th>\n",
       "      <th>RowNumber</th>\n",
       "      <th>CustomerId</th>\n",
       "      <th>Surname</th>\n",
       "      <th>CreditScore</th>\n",
       "      <th>Geography</th>\n",
       "      <th>Gender</th>\n",
       "      <th>Age</th>\n",
       "      <th>Tenure</th>\n",
       "      <th>Balance</th>\n",
       "      <th>NumOfProducts</th>\n",
       "      <th>HasCrCard</th>\n",
       "      <th>IsActiveMember</th>\n",
       "      <th>EstimatedSalary</th>\n",
       "      <th>Exited</th>\n",
       "    </tr>\n",
       "  </thead>\n",
       "  <tbody>\n",
       "    <tr>\n",
       "      <th>0</th>\n",
       "      <td>1</td>\n",
       "      <td>15634602</td>\n",
       "      <td>Hargrave</td>\n",
       "      <td>619</td>\n",
       "      <td>France</td>\n",
       "      <td>Female</td>\n",
       "      <td>42</td>\n",
       "      <td>2</td>\n",
       "      <td>0.00</td>\n",
       "      <td>1</td>\n",
       "      <td>1</td>\n",
       "      <td>1</td>\n",
       "      <td>101348.88</td>\n",
       "      <td>1</td>\n",
       "    </tr>\n",
       "    <tr>\n",
       "      <th>1</th>\n",
       "      <td>2</td>\n",
       "      <td>15647311</td>\n",
       "      <td>Hill</td>\n",
       "      <td>608</td>\n",
       "      <td>Spain</td>\n",
       "      <td>Female</td>\n",
       "      <td>41</td>\n",
       "      <td>1</td>\n",
       "      <td>83807.86</td>\n",
       "      <td>1</td>\n",
       "      <td>0</td>\n",
       "      <td>1</td>\n",
       "      <td>112542.58</td>\n",
       "      <td>0</td>\n",
       "    </tr>\n",
       "    <tr>\n",
       "      <th>2</th>\n",
       "      <td>3</td>\n",
       "      <td>15619304</td>\n",
       "      <td>Onio</td>\n",
       "      <td>502</td>\n",
       "      <td>France</td>\n",
       "      <td>Female</td>\n",
       "      <td>42</td>\n",
       "      <td>8</td>\n",
       "      <td>159660.80</td>\n",
       "      <td>3</td>\n",
       "      <td>1</td>\n",
       "      <td>0</td>\n",
       "      <td>113931.57</td>\n",
       "      <td>1</td>\n",
       "    </tr>\n",
       "    <tr>\n",
       "      <th>3</th>\n",
       "      <td>4</td>\n",
       "      <td>15701354</td>\n",
       "      <td>Boni</td>\n",
       "      <td>699</td>\n",
       "      <td>France</td>\n",
       "      <td>Female</td>\n",
       "      <td>39</td>\n",
       "      <td>1</td>\n",
       "      <td>0.00</td>\n",
       "      <td>2</td>\n",
       "      <td>0</td>\n",
       "      <td>0</td>\n",
       "      <td>93826.63</td>\n",
       "      <td>0</td>\n",
       "    </tr>\n",
       "    <tr>\n",
       "      <th>4</th>\n",
       "      <td>5</td>\n",
       "      <td>15737888</td>\n",
       "      <td>Mitchell</td>\n",
       "      <td>850</td>\n",
       "      <td>Spain</td>\n",
       "      <td>Female</td>\n",
       "      <td>43</td>\n",
       "      <td>2</td>\n",
       "      <td>125510.82</td>\n",
       "      <td>1</td>\n",
       "      <td>1</td>\n",
       "      <td>1</td>\n",
       "      <td>79084.10</td>\n",
       "      <td>0</td>\n",
       "    </tr>\n",
       "  </tbody>\n",
       "</table>\n",
       "</div>"
      ],
      "text/plain": [
       "   RowNumber  CustomerId   Surname  CreditScore Geography  Gender  Age  \\\n",
       "0          1    15634602  Hargrave          619    France  Female   42   \n",
       "1          2    15647311      Hill          608     Spain  Female   41   \n",
       "2          3    15619304      Onio          502    France  Female   42   \n",
       "3          4    15701354      Boni          699    France  Female   39   \n",
       "4          5    15737888  Mitchell          850     Spain  Female   43   \n",
       "\n",
       "   Tenure    Balance  NumOfProducts  HasCrCard  IsActiveMember  \\\n",
       "0       2       0.00              1          1               1   \n",
       "1       1   83807.86              1          0               1   \n",
       "2       8  159660.80              3          1               0   \n",
       "3       1       0.00              2          0               0   \n",
       "4       2  125510.82              1          1               1   \n",
       "\n",
       "   EstimatedSalary  Exited  \n",
       "0        101348.88       1  \n",
       "1        112542.58       0  \n",
       "2        113931.57       1  \n",
       "3         93826.63       0  \n",
       "4         79084.10       0  "
      ]
     },
     "execution_count": 5,
     "metadata": {},
     "output_type": "execute_result"
    }
   ],
   "source": [
    "df.head()  #ilk beş gözlem"
   ]
  },
  {
   "cell_type": "code",
   "execution_count": 371,
   "id": "f46a7551",
   "metadata": {},
   "outputs": [
    {
     "data": {
      "text/html": [
       "<div>\n",
       "<style scoped>\n",
       "    .dataframe tbody tr th:only-of-type {\n",
       "        vertical-align: middle;\n",
       "    }\n",
       "\n",
       "    .dataframe tbody tr th {\n",
       "        vertical-align: top;\n",
       "    }\n",
       "\n",
       "    .dataframe thead th {\n",
       "        text-align: right;\n",
       "    }\n",
       "</style>\n",
       "<table border=\"1\" class=\"dataframe\">\n",
       "  <thead>\n",
       "    <tr style=\"text-align: right;\">\n",
       "      <th></th>\n",
       "      <th>RowNumber</th>\n",
       "      <th>CustomerId</th>\n",
       "      <th>Surname</th>\n",
       "      <th>CreditScore</th>\n",
       "      <th>Geography</th>\n",
       "      <th>Gender</th>\n",
       "      <th>Age</th>\n",
       "      <th>Tenure</th>\n",
       "      <th>Balance</th>\n",
       "      <th>NumOfProducts</th>\n",
       "      <th>HasCrCard</th>\n",
       "      <th>IsActiveMember</th>\n",
       "      <th>EstimatedSalary</th>\n",
       "      <th>Exited</th>\n",
       "    </tr>\n",
       "  </thead>\n",
       "  <tbody>\n",
       "    <tr>\n",
       "      <th>9995</th>\n",
       "      <td>9996</td>\n",
       "      <td>15606229</td>\n",
       "      <td>Obijiaku</td>\n",
       "      <td>771</td>\n",
       "      <td>France</td>\n",
       "      <td>Male</td>\n",
       "      <td>39</td>\n",
       "      <td>5</td>\n",
       "      <td>0.00</td>\n",
       "      <td>2</td>\n",
       "      <td>1</td>\n",
       "      <td>0</td>\n",
       "      <td>96270.64</td>\n",
       "      <td>0</td>\n",
       "    </tr>\n",
       "    <tr>\n",
       "      <th>9996</th>\n",
       "      <td>9997</td>\n",
       "      <td>15569892</td>\n",
       "      <td>Johnstone</td>\n",
       "      <td>516</td>\n",
       "      <td>France</td>\n",
       "      <td>Male</td>\n",
       "      <td>35</td>\n",
       "      <td>10</td>\n",
       "      <td>57369.61</td>\n",
       "      <td>1</td>\n",
       "      <td>1</td>\n",
       "      <td>1</td>\n",
       "      <td>101699.77</td>\n",
       "      <td>0</td>\n",
       "    </tr>\n",
       "    <tr>\n",
       "      <th>9997</th>\n",
       "      <td>9998</td>\n",
       "      <td>15584532</td>\n",
       "      <td>Liu</td>\n",
       "      <td>709</td>\n",
       "      <td>France</td>\n",
       "      <td>Female</td>\n",
       "      <td>36</td>\n",
       "      <td>7</td>\n",
       "      <td>0.00</td>\n",
       "      <td>1</td>\n",
       "      <td>0</td>\n",
       "      <td>1</td>\n",
       "      <td>42085.58</td>\n",
       "      <td>1</td>\n",
       "    </tr>\n",
       "    <tr>\n",
       "      <th>9998</th>\n",
       "      <td>9999</td>\n",
       "      <td>15682355</td>\n",
       "      <td>Sabbatini</td>\n",
       "      <td>772</td>\n",
       "      <td>Germany</td>\n",
       "      <td>Male</td>\n",
       "      <td>42</td>\n",
       "      <td>3</td>\n",
       "      <td>75075.31</td>\n",
       "      <td>2</td>\n",
       "      <td>1</td>\n",
       "      <td>0</td>\n",
       "      <td>92888.52</td>\n",
       "      <td>1</td>\n",
       "    </tr>\n",
       "    <tr>\n",
       "      <th>9999</th>\n",
       "      <td>10000</td>\n",
       "      <td>15628319</td>\n",
       "      <td>Walker</td>\n",
       "      <td>792</td>\n",
       "      <td>France</td>\n",
       "      <td>Female</td>\n",
       "      <td>28</td>\n",
       "      <td>4</td>\n",
       "      <td>130142.79</td>\n",
       "      <td>1</td>\n",
       "      <td>1</td>\n",
       "      <td>0</td>\n",
       "      <td>38190.78</td>\n",
       "      <td>0</td>\n",
       "    </tr>\n",
       "  </tbody>\n",
       "</table>\n",
       "</div>"
      ],
      "text/plain": [
       "      RowNumber  CustomerId    Surname  CreditScore Geography  Gender  Age  \\\n",
       "9995       9996    15606229   Obijiaku          771    France    Male   39   \n",
       "9996       9997    15569892  Johnstone          516    France    Male   35   \n",
       "9997       9998    15584532        Liu          709    France  Female   36   \n",
       "9998       9999    15682355  Sabbatini          772   Germany    Male   42   \n",
       "9999      10000    15628319     Walker          792    France  Female   28   \n",
       "\n",
       "      Tenure    Balance  NumOfProducts  HasCrCard  IsActiveMember  \\\n",
       "9995       5       0.00              2          1               0   \n",
       "9996      10   57369.61              1          1               1   \n",
       "9997       7       0.00              1          0               1   \n",
       "9998       3   75075.31              2          1               0   \n",
       "9999       4  130142.79              1          1               0   \n",
       "\n",
       "      EstimatedSalary  Exited  \n",
       "9995         96270.64       0  \n",
       "9996        101699.77       0  \n",
       "9997         42085.58       1  \n",
       "9998         92888.52       1  \n",
       "9999         38190.78       0  "
      ]
     },
     "execution_count": 371,
     "metadata": {},
     "output_type": "execute_result"
    }
   ],
   "source": [
    "df.tail()  #Son beş gözlem "
   ]
  },
  {
   "cell_type": "code",
   "execution_count": 372,
   "id": "fc7efc0e",
   "metadata": {},
   "outputs": [
    {
     "name": "stdout",
     "output_type": "stream",
     "text": [
      "<class 'pandas.core.frame.DataFrame'>\n",
      "RangeIndex: 10000 entries, 0 to 9999\n",
      "Data columns (total 14 columns):\n",
      " #   Column           Non-Null Count  Dtype  \n",
      "---  ------           --------------  -----  \n",
      " 0   RowNumber        10000 non-null  int64  \n",
      " 1   CustomerId       10000 non-null  int64  \n",
      " 2   Surname          10000 non-null  object \n",
      " 3   CreditScore      10000 non-null  int64  \n",
      " 4   Geography        10000 non-null  object \n",
      " 5   Gender           10000 non-null  object \n",
      " 6   Age              10000 non-null  int64  \n",
      " 7   Tenure           10000 non-null  int64  \n",
      " 8   Balance          10000 non-null  float64\n",
      " 9   NumOfProducts    10000 non-null  int64  \n",
      " 10  HasCrCard        10000 non-null  int64  \n",
      " 11  IsActiveMember   10000 non-null  int64  \n",
      " 12  EstimatedSalary  10000 non-null  float64\n",
      " 13  Exited           10000 non-null  int64  \n",
      "dtypes: float64(2), int64(9), object(3)\n",
      "memory usage: 1.1+ MB\n"
     ]
    }
   ],
   "source": [
    "df.info()"
   ]
  },
  {
   "cell_type": "markdown",
   "id": "2d412b08",
   "metadata": {},
   "source": [
    "3 adet object, 9 adet int ve 2 adet float olmak üzere toplam 14 değişken mevcuttur."
   ]
  },
  {
   "cell_type": "code",
   "execution_count": 373,
   "id": "998d2b8d",
   "metadata": {},
   "outputs": [
    {
     "data": {
      "text/plain": [
       "pandas.core.frame.DataFrame"
      ]
     },
     "execution_count": 373,
     "metadata": {},
     "output_type": "execute_result"
    }
   ],
   "source": [
    "type(df)   #Veri setinin türü"
   ]
  },
  {
   "cell_type": "code",
   "execution_count": 6,
   "id": "9d615a6e",
   "metadata": {},
   "outputs": [
    {
     "name": "stdout",
     "output_type": "stream",
     "text": [
      "Veri seti 10000 gözlem ve 14 değişkenden oluşmaktadır.\n"
     ]
    }
   ],
   "source": [
    "print(\"Veri seti\" , df.shape[0], \"gözlem ve\", df.shape[1], \"değişkenden oluşmaktadır.\")"
   ]
  },
  {
   "cell_type": "markdown",
   "id": "6dea93dd",
   "metadata": {},
   "source": [
    "- Veri setimizi test ve train seti olarak ikiye ayırıp train setiyle modele koyup en başarılı makine öğrenmesi modeliyle hiç görülmeyen (unseen) test setimizdeki başarı performansını değerlendireceğiz.Model kurma aşamasına kadar olan bundan sonraki veri analizi işlemlerimizi train seti üzerinden gerçekleştireceğiz."
   ]
  },
  {
   "cell_type": "code",
   "execution_count": 7,
   "id": "5ca91dce",
   "metadata": {},
   "outputs": [
    {
     "name": "stdout",
     "output_type": "stream",
     "text": [
      "Train seti: 8000 gözlem x 14 değişken\n",
      " Test seti: 2000 gözlem x 14 değişken\n"
     ]
    }
   ],
   "source": [
    "df_train, df_test = train_test_split(df, test_size=0.2, random_state=0)\n",
    "\n",
    "df_train.reset_index(drop=True, inplace=True)\n",
    "df_test.reset_index(drop=True, inplace=True)\n",
    "\n",
    "print('Train seti: {} gözlem x {} değişken'.format(df_train.shape[0],\n",
    "                                               df_train.shape[1]))\n",
    "print(' Test seti: {} gözlem x {} değişken'.format(df_test.shape[0],\n",
    "                                               df_test.shape[1]))"
   ]
  },
  {
   "cell_type": "code",
   "execution_count": 8,
   "id": "e90bc581",
   "metadata": {},
   "outputs": [
    {
     "data": {
      "text/plain": [
       "Index(['RowNumber', 'CustomerId', 'Surname', 'CreditScore', 'Geography',\n",
       "       'Gender', 'Age', 'Tenure', 'Balance', 'NumOfProducts', 'HasCrCard',\n",
       "       'IsActiveMember', 'EstimatedSalary', 'Exited'],\n",
       "      dtype='object')"
      ]
     },
     "execution_count": 8,
     "metadata": {},
     "output_type": "execute_result"
    }
   ],
   "source": [
    "df_train.columns   #Veri setindeki sütunlara ulaştık"
   ]
  },
  {
   "cell_type": "code",
   "execution_count": 9,
   "id": "4cc63125",
   "metadata": {},
   "outputs": [
    {
     "data": {
      "text/plain": [
       "array(['Spain', 'Germany', 'France'], dtype=object)"
      ]
     },
     "execution_count": 9,
     "metadata": {},
     "output_type": "execute_result"
    }
   ],
   "source": [
    "df_train[\"Geography\"].unique()     #Geography sütunundaki benzersiz değerleri gözlemledik"
   ]
  },
  {
   "cell_type": "code",
   "execution_count": 10,
   "id": "6800e237",
   "metadata": {},
   "outputs": [
    {
     "data": {
      "text/plain": [
       "False"
      ]
     },
     "execution_count": 10,
     "metadata": {},
     "output_type": "execute_result"
    }
   ],
   "source": [
    "df_train.isnull().values.any()  "
   ]
  },
  {
   "cell_type": "code",
   "execution_count": 11,
   "id": "69e666b4",
   "metadata": {},
   "outputs": [
    {
     "data": {
      "text/plain": [
       "RowNumber          0\n",
       "CustomerId         0\n",
       "Surname            0\n",
       "CreditScore        0\n",
       "Geography          0\n",
       "Gender             0\n",
       "Age                0\n",
       "Tenure             0\n",
       "Balance            0\n",
       "NumOfProducts      0\n",
       "HasCrCard          0\n",
       "IsActiveMember     0\n",
       "EstimatedSalary    0\n",
       "Exited             0\n",
       "dtype: int64"
      ]
     },
     "execution_count": 11,
     "metadata": {},
     "output_type": "execute_result"
    }
   ],
   "source": [
    "df_train.isnull().sum()   "
   ]
  },
  {
   "cell_type": "code",
   "execution_count": 13,
   "id": "2f89a82c",
   "metadata": {},
   "outputs": [
    {
     "data": {
      "text/plain": [
       "RowNumber          8000\n",
       "CustomerId         8000\n",
       "Surname            2598\n",
       "CreditScore         457\n",
       "Geography             3\n",
       "Gender                2\n",
       "Age                  69\n",
       "Tenure               11\n",
       "Balance            5071\n",
       "NumOfProducts         4\n",
       "HasCrCard             2\n",
       "IsActiveMember        2\n",
       "EstimatedSalary    7999\n",
       "Exited                2\n",
       "dtype: int64"
      ]
     },
     "execution_count": 13,
     "metadata": {},
     "output_type": "execute_result"
    }
   ],
   "source": [
    "df_train.nunique()   #Tüm değişkenlerin toplam benzersiz değerlerine ulaştık"
   ]
  },
  {
   "cell_type": "code",
   "execution_count": 381,
   "id": "49b1f23f",
   "metadata": {},
   "outputs": [
    {
     "data": {
      "text/html": [
       "<div>\n",
       "<style scoped>\n",
       "    .dataframe tbody tr th:only-of-type {\n",
       "        vertical-align: middle;\n",
       "    }\n",
       "\n",
       "    .dataframe tbody tr th {\n",
       "        vertical-align: top;\n",
       "    }\n",
       "\n",
       "    .dataframe thead th {\n",
       "        text-align: right;\n",
       "    }\n",
       "</style>\n",
       "<table border=\"1\" class=\"dataframe\">\n",
       "  <thead>\n",
       "    <tr style=\"text-align: right;\">\n",
       "      <th></th>\n",
       "      <th>Surname</th>\n",
       "      <th>Geography</th>\n",
       "      <th>Gender</th>\n",
       "    </tr>\n",
       "  </thead>\n",
       "  <tbody>\n",
       "    <tr>\n",
       "      <th>0</th>\n",
       "      <td>Mishin</td>\n",
       "      <td>Spain</td>\n",
       "      <td>Female</td>\n",
       "    </tr>\n",
       "    <tr>\n",
       "      <th>1</th>\n",
       "      <td>Carslaw</td>\n",
       "      <td>Germany</td>\n",
       "      <td>Male</td>\n",
       "    </tr>\n",
       "    <tr>\n",
       "      <th>2</th>\n",
       "      <td>Moore</td>\n",
       "      <td>France</td>\n",
       "      <td>Female</td>\n",
       "    </tr>\n",
       "    <tr>\n",
       "      <th>3</th>\n",
       "      <td>Ferri</td>\n",
       "      <td>Spain</td>\n",
       "      <td>Male</td>\n",
       "    </tr>\n",
       "    <tr>\n",
       "      <th>4</th>\n",
       "      <td>Simmons</td>\n",
       "      <td>Spain</td>\n",
       "      <td>Female</td>\n",
       "    </tr>\n",
       "  </tbody>\n",
       "</table>\n",
       "</div>"
      ],
      "text/plain": [
       "   Surname Geography  Gender\n",
       "0   Mishin     Spain  Female\n",
       "1  Carslaw   Germany    Male\n",
       "2    Moore    France  Female\n",
       "3    Ferri     Spain    Male\n",
       "4  Simmons     Spain  Female"
      ]
     },
     "execution_count": 381,
     "metadata": {},
     "output_type": "execute_result"
    }
   ],
   "source": [
    "categorical_features = [categoric for categoric in df_train.columns if df_train[categoric].dtype == 'O']\n",
    "df_train[categorical_features].head()"
   ]
  },
  {
   "cell_type": "markdown",
   "id": "78432b1b",
   "metadata": {},
   "source": [
    "Müşterinin churn olma durumuna etkisi olmayan, gereksiz verileri veri setinden siliyoruz."
   ]
  },
  {
   "cell_type": "code",
   "execution_count": 15,
   "id": "e8efc681",
   "metadata": {},
   "outputs": [],
   "source": [
    "df_train.drop(\"RowNumber\", axis=1, inplace=True)   \n",
    "df_train.drop(\"CustomerId\", axis=1, inplace=True)\n",
    "df_train.drop(\"Surname\", axis=1, inplace=True)"
   ]
  },
  {
   "cell_type": "code",
   "execution_count": 16,
   "id": "07a4e1eb",
   "metadata": {},
   "outputs": [
    {
     "data": {
      "text/html": [
       "<div>\n",
       "<style scoped>\n",
       "    .dataframe tbody tr th:only-of-type {\n",
       "        vertical-align: middle;\n",
       "    }\n",
       "\n",
       "    .dataframe tbody tr th {\n",
       "        vertical-align: top;\n",
       "    }\n",
       "\n",
       "    .dataframe thead th {\n",
       "        text-align: right;\n",
       "    }\n",
       "</style>\n",
       "<table border=\"1\" class=\"dataframe\">\n",
       "  <thead>\n",
       "    <tr style=\"text-align: right;\">\n",
       "      <th></th>\n",
       "      <th>count</th>\n",
       "      <th>mean</th>\n",
       "      <th>std</th>\n",
       "      <th>min</th>\n",
       "      <th>25%</th>\n",
       "      <th>50%</th>\n",
       "      <th>75%</th>\n",
       "      <th>max</th>\n",
       "    </tr>\n",
       "  </thead>\n",
       "  <tbody>\n",
       "    <tr>\n",
       "      <th>CreditScore</th>\n",
       "      <td>8000.0</td>\n",
       "      <td>650.550000</td>\n",
       "      <td>97.009419</td>\n",
       "      <td>350.00</td>\n",
       "      <td>583.0000</td>\n",
       "      <td>652.00</td>\n",
       "      <td>718.000</td>\n",
       "      <td>850.00</td>\n",
       "    </tr>\n",
       "    <tr>\n",
       "      <th>Age</th>\n",
       "      <td>8000.0</td>\n",
       "      <td>38.854625</td>\n",
       "      <td>10.449516</td>\n",
       "      <td>18.00</td>\n",
       "      <td>32.0000</td>\n",
       "      <td>37.00</td>\n",
       "      <td>44.000</td>\n",
       "      <td>88.00</td>\n",
       "    </tr>\n",
       "    <tr>\n",
       "      <th>Tenure</th>\n",
       "      <td>8000.0</td>\n",
       "      <td>4.980750</td>\n",
       "      <td>2.890142</td>\n",
       "      <td>0.00</td>\n",
       "      <td>2.0000</td>\n",
       "      <td>5.00</td>\n",
       "      <td>7.000</td>\n",
       "      <td>10.00</td>\n",
       "    </tr>\n",
       "    <tr>\n",
       "      <th>Balance</th>\n",
       "      <td>8000.0</td>\n",
       "      <td>76076.504201</td>\n",
       "      <td>62581.364700</td>\n",
       "      <td>0.00</td>\n",
       "      <td>0.0000</td>\n",
       "      <td>96870.17</td>\n",
       "      <td>127540.865</td>\n",
       "      <td>238387.56</td>\n",
       "    </tr>\n",
       "    <tr>\n",
       "      <th>NumOfProducts</th>\n",
       "      <td>8000.0</td>\n",
       "      <td>1.532375</td>\n",
       "      <td>0.577705</td>\n",
       "      <td>1.00</td>\n",
       "      <td>1.0000</td>\n",
       "      <td>1.00</td>\n",
       "      <td>2.000</td>\n",
       "      <td>4.00</td>\n",
       "    </tr>\n",
       "    <tr>\n",
       "      <th>HasCrCard</th>\n",
       "      <td>8000.0</td>\n",
       "      <td>0.707750</td>\n",
       "      <td>0.454825</td>\n",
       "      <td>0.00</td>\n",
       "      <td>0.0000</td>\n",
       "      <td>1.00</td>\n",
       "      <td>1.000</td>\n",
       "      <td>1.00</td>\n",
       "    </tr>\n",
       "    <tr>\n",
       "      <th>IsActiveMember</th>\n",
       "      <td>8000.0</td>\n",
       "      <td>0.515875</td>\n",
       "      <td>0.499779</td>\n",
       "      <td>0.00</td>\n",
       "      <td>0.0000</td>\n",
       "      <td>1.00</td>\n",
       "      <td>1.000</td>\n",
       "      <td>1.00</td>\n",
       "    </tr>\n",
       "    <tr>\n",
       "      <th>EstimatedSalary</th>\n",
       "      <td>8000.0</td>\n",
       "      <td>100172.282724</td>\n",
       "      <td>57538.426073</td>\n",
       "      <td>11.58</td>\n",
       "      <td>51270.6975</td>\n",
       "      <td>100319.84</td>\n",
       "      <td>149618.390</td>\n",
       "      <td>199992.48</td>\n",
       "    </tr>\n",
       "    <tr>\n",
       "      <th>Exited</th>\n",
       "      <td>8000.0</td>\n",
       "      <td>0.204000</td>\n",
       "      <td>0.402994</td>\n",
       "      <td>0.00</td>\n",
       "      <td>0.0000</td>\n",
       "      <td>0.00</td>\n",
       "      <td>0.000</td>\n",
       "      <td>1.00</td>\n",
       "    </tr>\n",
       "  </tbody>\n",
       "</table>\n",
       "</div>"
      ],
      "text/plain": [
       "                  count           mean           std     min         25%  \\\n",
       "CreditScore      8000.0     650.550000     97.009419  350.00    583.0000   \n",
       "Age              8000.0      38.854625     10.449516   18.00     32.0000   \n",
       "Tenure           8000.0       4.980750      2.890142    0.00      2.0000   \n",
       "Balance          8000.0   76076.504201  62581.364700    0.00      0.0000   \n",
       "NumOfProducts    8000.0       1.532375      0.577705    1.00      1.0000   \n",
       "HasCrCard        8000.0       0.707750      0.454825    0.00      0.0000   \n",
       "IsActiveMember   8000.0       0.515875      0.499779    0.00      0.0000   \n",
       "EstimatedSalary  8000.0  100172.282724  57538.426073   11.58  51270.6975   \n",
       "Exited           8000.0       0.204000      0.402994    0.00      0.0000   \n",
       "\n",
       "                       50%         75%        max  \n",
       "CreditScore         652.00     718.000     850.00  \n",
       "Age                  37.00      44.000      88.00  \n",
       "Tenure                5.00       7.000      10.00  \n",
       "Balance           96870.17  127540.865  238387.56  \n",
       "NumOfProducts         1.00       2.000       4.00  \n",
       "HasCrCard             1.00       1.000       1.00  \n",
       "IsActiveMember        1.00       1.000       1.00  \n",
       "EstimatedSalary  100319.84  149618.390  199992.48  \n",
       "Exited                0.00       0.000       1.00  "
      ]
     },
     "execution_count": 16,
     "metadata": {},
     "output_type": "execute_result"
    }
   ],
   "source": [
    "df_train.describe().T"
   ]
  },
  {
   "cell_type": "code",
   "execution_count": 17,
   "id": "67c3cd93",
   "metadata": {
    "scrolled": false
   },
   "outputs": [
    {
     "data": {
      "text/html": [
       "<div>\n",
       "<style scoped>\n",
       "    .dataframe tbody tr th:only-of-type {\n",
       "        vertical-align: middle;\n",
       "    }\n",
       "\n",
       "    .dataframe tbody tr th {\n",
       "        vertical-align: top;\n",
       "    }\n",
       "\n",
       "    .dataframe thead th {\n",
       "        text-align: right;\n",
       "    }\n",
       "</style>\n",
       "<table border=\"1\" class=\"dataframe\">\n",
       "  <thead>\n",
       "    <tr style=\"text-align: right;\">\n",
       "      <th></th>\n",
       "      <th>Balance</th>\n",
       "    </tr>\n",
       "    <tr>\n",
       "      <th>Exited</th>\n",
       "      <th></th>\n",
       "    </tr>\n",
       "  </thead>\n",
       "  <tbody>\n",
       "    <tr>\n",
       "      <th>0</th>\n",
       "      <td>72333.854092</td>\n",
       "    </tr>\n",
       "    <tr>\n",
       "      <th>1</th>\n",
       "      <td>90680.178156</td>\n",
       "    </tr>\n",
       "  </tbody>\n",
       "</table>\n",
       "</div>"
      ],
      "text/plain": [
       "             Balance\n",
       "Exited              \n",
       "0       72333.854092\n",
       "1       90680.178156"
      ]
     },
     "execution_count": 17,
     "metadata": {},
     "output_type": "execute_result"
    }
   ],
   "source": [
    "df_train.groupby(\"Exited\").agg({\"Balance\": \"mean\"})"
   ]
  },
  {
   "cell_type": "code",
   "execution_count": 18,
   "id": "887aaa1a",
   "metadata": {},
   "outputs": [
    {
     "data": {
      "text/html": [
       "<div>\n",
       "<style scoped>\n",
       "    .dataframe tbody tr th:only-of-type {\n",
       "        vertical-align: middle;\n",
       "    }\n",
       "\n",
       "    .dataframe tbody tr th {\n",
       "        vertical-align: top;\n",
       "    }\n",
       "\n",
       "    .dataframe thead th {\n",
       "        text-align: right;\n",
       "    }\n",
       "</style>\n",
       "<table border=\"1\" class=\"dataframe\">\n",
       "  <thead>\n",
       "    <tr style=\"text-align: right;\">\n",
       "      <th></th>\n",
       "      <th>EstimatedSalary</th>\n",
       "    </tr>\n",
       "    <tr>\n",
       "      <th>Exited</th>\n",
       "      <th></th>\n",
       "    </tr>\n",
       "  </thead>\n",
       "  <tbody>\n",
       "    <tr>\n",
       "      <th>0</th>\n",
       "      <td>99875.425812</td>\n",
       "    </tr>\n",
       "    <tr>\n",
       "      <th>1</th>\n",
       "      <td>101330.606752</td>\n",
       "    </tr>\n",
       "  </tbody>\n",
       "</table>\n",
       "</div>"
      ],
      "text/plain": [
       "        EstimatedSalary\n",
       "Exited                 \n",
       "0          99875.425812\n",
       "1         101330.606752"
      ]
     },
     "execution_count": 18,
     "metadata": {},
     "output_type": "execute_result"
    }
   ],
   "source": [
    "df_train.groupby(\"Exited\").agg({\"EstimatedSalary\": \"mean\"})"
   ]
  },
  {
   "cell_type": "code",
   "execution_count": 20,
   "id": "581bdd89",
   "metadata": {},
   "outputs": [
    {
     "name": "stdout",
     "output_type": "stream",
     "text": [
      "Churn olanlar:(1632, 11)\n",
      "Churn olmayanlar:(6368, 11)\n"
     ]
    }
   ],
   "source": [
    "data1=df_train[df_train['Exited']==1]\n",
    "print(\"Churn olanlar:\"+str(data1.shape))\n",
    "      \n",
    "data2=df_train[df_train['Exited']==0]\n",
    "print(\"Churn olmayanlar:\"+str(data2.shape))"
   ]
  },
  {
   "cell_type": "code",
   "execution_count": 387,
   "id": "0c8be1f8",
   "metadata": {},
   "outputs": [
    {
     "data": {
      "text/plain": [
       "France     4058\n",
       "Spain      1981\n",
       "Germany    1961\n",
       "Name: Geography, dtype: int64"
      ]
     },
     "execution_count": 387,
     "metadata": {},
     "output_type": "execute_result"
    }
   ],
   "source": [
    "toplam_musteri_sayisi=df_train['Geography'].value_counts()    \n",
    "toplam_musteri_sayisi"
   ]
  },
  {
   "cell_type": "code",
   "execution_count": 388,
   "id": "00d25770",
   "metadata": {},
   "outputs": [
    {
     "data": {
      "text/plain": [
       "France     3413\n",
       "Spain      1637\n",
       "Germany    1318\n",
       "Name: Geography, dtype: int64"
      ]
     },
     "execution_count": 388,
     "metadata": {},
     "output_type": "execute_result"
    }
   ],
   "source": [
    "elde_tutulan_musteri_sayisi=df_train[(df_train['Exited']==0)]['Geography'].value_counts()\n",
    "elde_tutulan_musteri_sayisi"
   ]
  },
  {
   "cell_type": "code",
   "execution_count": 389,
   "id": "8aab1dbd",
   "metadata": {},
   "outputs": [
    {
     "name": "stdout",
     "output_type": "stream",
     "text": [
      "Geography\n",
      "France     0.158945\n",
      "Germany    0.327894\n",
      "Spain      0.173650\n",
      "Name: Exited, dtype: float64\n"
     ]
    }
   ],
   "source": [
    "target_=df_train.groupby(\"Geography\")[\"Exited\"].mean()\n",
    "print(target_)"
   ]
  },
  {
   "cell_type": "markdown",
   "id": "86bff448",
   "metadata": {},
   "source": [
    "## Veri Görselleştirme"
   ]
  },
  {
   "cell_type": "code",
   "execution_count": 313,
   "id": "9854b788",
   "metadata": {},
   "outputs": [
    {
     "data": {
      "image/png": "[encoded data removed]",
      "text/plain": [
       "<Figure size 648x504 with 1 Axes>"
      ]
     },
     "metadata": {},
     "output_type": "display_data"
    }
   ],
   "source": [
    "labels = 'Churn olanlar', 'Churn olmayanlar'\n",
    "sizes = [df_train.Exited[df_train['Exited']==1].count(), df_train.Exited[df_train['Exited']==0].count()]\n",
    "explode = (0, 0.08)\n",
    "fig1, ax1 = plt.subplots(figsize=(9, 7))\n",
    "ax1.pie(sizes, explode=explode, labels=labels, autopct='%1.1f%%',\n",
    "        shadow=True, startangle=90)\n",
    "ax1.axis('equal')\n",
    "plt.title(\"Churn olan/olmayan müşterilerin dağılımı\", size = 15)\n",
    "plt.show()"
   ]
  },
  {
   "cell_type": "code",
   "execution_count": 314,
   "id": "88e0ad8e",
   "metadata": {},
   "outputs": [
    {
     "data": {
      "text/plain": [
       "0    6368\n",
       "1    1632\n",
       "Name: Exited, dtype: int64"
      ]
     },
     "execution_count": 314,
     "metadata": {},
     "output_type": "execute_result"
    }
   ],
   "source": [
    "df_train[\"Exited\"].value_counts() #Hedef değişken"
   ]
  },
  {
   "cell_type": "code",
   "execution_count": 24,
   "id": "bfe46049",
   "metadata": {},
   "outputs": [
    {
     "name": "stdout",
     "output_type": "stream",
     "text": [
      "Veri setindeki 0-1 dengesi: % 0.204\n"
     ]
    },
    {
     "data": {
      "image/png": "[encoded data removed]",
      "text/plain": [
       "<Figure size 432x288 with 1 Axes>"
      ]
     },
     "metadata": {
      "needs_background": "light"
     },
     "output_type": "display_data"
    }
   ],
   "source": [
    "print(\"Veri setindeki 0-1 dengesi: %\" ,1632/8000)                  \n",
    "sns.countplot(df_train['Exited'],label=\"Count\");"
   ]
  },
  {
   "cell_type": "code",
   "execution_count": 25,
   "id": "bb108aae",
   "metadata": {
    "scrolled": true
   },
   "outputs": [
    {
     "data": {
      "image/png": "[encoded data removed]",
      "text/plain": [
       "<Figure size 432x288 with 1 Axes>"
      ]
     },
     "metadata": {
      "needs_background": "light"
     },
     "output_type": "display_data"
    }
   ],
   "source": [
    "df_train[\"Gender\"].value_counts().plot.barh(color=\"g\").set_title(\"Müşterilerin Cinsiyet Dağılımı\");"
   ]
  },
  {
   "cell_type": "code",
   "execution_count": 28,
   "id": "a044e502",
   "metadata": {},
   "outputs": [
    {
     "data": {
      "image/png": "[encoded data removed]",
      "text/plain": [
       "<Figure size 432x288 with 1 Axes>"
      ]
     },
     "metadata": {
      "needs_background": "light"
     },
     "output_type": "display_data"
    }
   ],
   "source": [
    "sns.countplot(x=\"Gender\", hue=\"Exited\", data=df_train,palette=\"hls\");"
   ]
  },
  {
   "cell_type": "code",
   "execution_count": 217,
   "id": "dbce2946",
   "metadata": {},
   "outputs": [
    {
     "data": {
      "image/png": "[encoded data removed]",
      "text/plain": [
       "<Figure size 432x288 with 1 Axes>"
      ]
     },
     "metadata": {
      "needs_background": "light"
     },
     "output_type": "display_data"
    }
   ],
   "source": [
    "sns.barplot(x=\"Geography\", y=\"Exited\", data=df_train);"
   ]
  },
  {
   "cell_type": "code",
   "execution_count": 218,
   "id": "9e0db4a5",
   "metadata": {
    "scrolled": true
   },
   "outputs": [
    {
     "name": "stdout",
     "output_type": "stream",
     "text": [
      "France     0.507250\n",
      "Spain      0.247625\n",
      "Germany    0.245125\n",
      "Name: Geography, dtype: float64\n"
     ]
    }
   ],
   "source": [
    "ratio=df_train[\"Geography\"].value_counts()/len(df_train)\n",
    "print(ratio)"
   ]
  },
  {
   "cell_type": "markdown",
   "id": "af59479e",
   "metadata": {},
   "source": [
    "- Almanyadaki müşterilerin churn olma durumları Fransa ve İspanya'ya göre daha fazla olduğu yorumu yapılabilir.Burda göze çarpan başka bir durum ise Almanya ve İspanya'ki müşterilerin veri setindeki dağılımları dengeli olmasına rağmen Almanya'daki müşteri kaybı çok daha fazladır."
   ]
  },
  {
   "cell_type": "code",
   "execution_count": 39,
   "id": "678b5455",
   "metadata": {},
   "outputs": [
    {
     "data": {
      "image/png": "[encoded data removed]",
      "text/plain": [
       "<Figure size 432x288 with 1 Axes>"
      ]
     },
     "metadata": {
      "needs_background": "light"
     },
     "output_type": "display_data"
    }
   ],
   "source": [
    "sns.countplot(x = \"NumOfProducts\", hue = \"Exited\" ,data = df_train);"
   ]
  },
  {
   "cell_type": "code",
   "execution_count": 535,
   "id": "ed300cad",
   "metadata": {},
   "outputs": [
    {
     "data": {
      "image/png": "[encoded data removed]",
      "text/plain": [
       "<Figure size 432x288 with 1 Axes>"
      ]
     },
     "metadata": {
      "needs_background": "light"
     },
     "output_type": "display_data"
    }
   ],
   "source": [
    "sns.barplot(x='NumOfProducts',\n",
    "            y='Exited',\n",
    "            data=df_train,\n",
    "            palette=['#FFB86F', '#63BAAA', '#9D88B3', '#38c4e3']).set_title(\"Müşteri terk\");"
   ]
  },
  {
   "cell_type": "code",
   "execution_count": 41,
   "id": "c046a327",
   "metadata": {
    "scrolled": true
   },
   "outputs": [
    {
     "name": "stdout",
     "output_type": "stream",
     "text": [
      "1    0.504875\n",
      "2    0.463000\n",
      "3    0.027000\n",
      "4    0.005125\n",
      "Name: NumOfProducts, dtype: float64\n"
     ]
    }
   ],
   "source": [
    "ratio=df_train[\"NumOfProducts\"].value_counts()/len(df_train)\n",
    "print(ratio)"
   ]
  },
  {
   "cell_type": "code",
   "execution_count": 42,
   "id": "7df7c004",
   "metadata": {},
   "outputs": [
    {
     "data": {
      "image/png": "[encoded data removed]",
      "text/plain": [
       "<Figure size 432x288 with 1 Axes>"
      ]
     },
     "metadata": {
      "needs_background": "light"
     },
     "output_type": "display_data"
    }
   ],
   "source": [
    "sns.countplot(x='HasCrCard', hue= 'Exited',data = df_train);"
   ]
  },
  {
   "cell_type": "code",
   "execution_count": 44,
   "id": "ea9060b3",
   "metadata": {
    "scrolled": true
   },
   "outputs": [
    {
     "data": {
      "image/png": "[encoded data removed]",
      "text/plain": [
       "<Figure size 432x288 with 1 Axes>"
      ]
     },
     "metadata": {
      "needs_background": "light"
     },
     "output_type": "display_data"
    }
   ],
   "source": [
    "sns.barplot(x='HasCrCard',\n",
    "            y='Exited',\n",
    "            data=df_train,\n",
    "            palette=['#B0A8B9','#C34A36']).set_title(\"Müşteri Terk Durumu\");"
   ]
  },
  {
   "cell_type": "markdown",
   "id": "5ee6c26e",
   "metadata": {},
   "source": [
    "- Bankayı terk eden müşterilerin çoğunluğunun kredi kartına sahip olduğunu gözlemliyoruz.Ancak yukarıdaki grafiğe bakılırsa bankadaki müşterilerin bankayı terk etmelerinde bir etkisi olmadığı yorumunu yapabiliriz."
   ]
  },
  {
   "cell_type": "code",
   "execution_count": 45,
   "id": "43a91425",
   "metadata": {},
   "outputs": [
    {
     "data": {
      "image/png": "[encoded data removed]",
      "text/plain": [
       "<Figure size 432x288 with 1 Axes>"
      ]
     },
     "metadata": {
      "needs_background": "light"
     },
     "output_type": "display_data"
    }
   ],
   "source": [
    "sns.countplot(x=\"IsActiveMember\", hue=\"Exited\", data=df_train);"
   ]
  },
  {
   "cell_type": "code",
   "execution_count": 48,
   "id": "9f1f9b39",
   "metadata": {
    "scrolled": true
   },
   "outputs": [
    {
     "data": {
      "image/png": "[encoded data removed]",
      "text/plain": [
       "<Figure size 432x288 with 1 Axes>"
      ]
     },
     "metadata": {
      "needs_background": "light"
     },
     "output_type": "display_data"
    }
   ],
   "source": [
    "df_train[\"Age\"].hist()\n",
    "plt.xlabel(\"Yaş\")\n",
    "plt.ylabel(\"Müşteri Sayısı\")\n",
    "plt.title(\"Yaş Dağılımı\", fontsize=16)\n",
    "plt.show()"
   ]
  },
  {
   "cell_type": "code",
   "execution_count": 105,
   "id": "3aa9c982",
   "metadata": {
    "scrolled": true
   },
   "outputs": [
    {
     "data": {
      "image/png": "[encoded data removed]",
      "text/plain": [
       "<Figure size 432x288 with 1 Axes>"
      ]
     },
     "metadata": {
      "needs_background": "light"
     },
     "output_type": "display_data"
    }
   ],
   "source": [
    "df_train[\"Balance\"].hist()\n",
    "plt.xlabel(\"Para dengesi\")\n",
    "plt.ylabel(\"Müşteri Sayısı\")\n",
    "plt.title(\"Bankadaki para sayısı\", fontsize=14)\n",
    "plt.show()"
   ]
  },
  {
   "cell_type": "code",
   "execution_count": 52,
   "id": "38b9954c",
   "metadata": {
    "scrolled": false
   },
   "outputs": [
    {
     "data": {
      "image/png": "[encoded data removed]",
      "text/plain": [
       "<Figure size 432x288 with 1 Axes>"
      ]
     },
     "metadata": {
      "needs_background": "light"
     },
     "output_type": "display_data"
    }
   ],
   "source": [
    "balance1 = df_train[df_train.Exited== 1].Balance\n",
    "balance2 = df_train[df_train.Exited== 0].Balance\n",
    "\n",
    "plt.hist([balance1, balance2], color = ['blue', 'red'], label = ['Exited = 1', 'Exited = 0'] )\n",
    "plt.legend();"
   ]
  },
  {
   "cell_type": "code",
   "execution_count": 49,
   "id": "1c8130f6",
   "metadata": {},
   "outputs": [
    {
     "data": {
      "image/png": "[encoded data removed]",
      "text/plain": [
       "<Figure size 432x288 with 1 Axes>"
      ]
     },
     "metadata": {
      "needs_background": "light"
     },
     "output_type": "display_data"
    }
   ],
   "source": [
    "creditscore1 = df_train[df_train.Exited== 1].CreditScore\n",
    "creditscore2 = df_train[df_train.Exited== 0].CreditScore\n",
    "\n",
    "plt.hist([creditscore1, creditscore2], color = ['#B0A8B9', '#845EC2'], label = ['Exited = 1', 'Exited = 0'] )\n",
    "plt.legend();"
   ]
  },
  {
   "cell_type": "code",
   "execution_count": 50,
   "id": "a889e0ee",
   "metadata": {
    "scrolled": true
   },
   "outputs": [
    {
     "data": {
      "image/png": "[encoded data removed]",
      "text/plain": [
       "<Figure size 432x288 with 1 Axes>"
      ]
     },
     "metadata": {
      "needs_background": "light"
     },
     "output_type": "display_data"
    }
   ],
   "source": [
    "sns.countplot(x=\"Tenure\", hue=\"Exited\", data=df_train, palette=['firebrick', 'darkorange']);"
   ]
  },
  {
   "cell_type": "code",
   "execution_count": 51,
   "id": "3dfe6d16",
   "metadata": {
    "scrolled": false
   },
   "outputs": [
    {
     "data": {
      "image/png": "[encoded data removed]",
      "text/plain": [
       "<Figure size 864x720 with 4 Axes>"
      ]
     },
     "metadata": {
      "needs_background": "light"
     },
     "output_type": "display_data"
    }
   ],
   "source": [
    "fig, ax = plt.subplots(2, 2, figsize = (12, 10))\n",
    "\n",
    "sns.boxplot(x = 'Exited', y = 'CreditScore', data = df_train, ax = ax[0][0], palette= 'spring')\n",
    "sns.boxplot(x = 'Exited', y = 'Age', data = df_train, ax = ax[0][1], palette= 'winter')\n",
    "sns.boxplot(x = 'Exited', y = 'Balance', data = df_train, ax = ax[1][0], palette= 'summer')\n",
    "sns.boxplot(x = 'Exited', y = 'EstimatedSalary', data = df_train, ax = ax[1][1],  palette= 'viridis')\n",
    "\n",
    "plt.tight_layout()\n",
    "plt.show()"
   ]
  },
  {
   "cell_type": "markdown",
   "id": "750e13ec",
   "metadata": {},
   "source": [
    "- Kredi skoruyla müşterilerin bankayı terk etme durumları arasında pek bir fark gözükmüyor.\n",
    "- Yaş değişkeniyle churn olma durumu karşılaştırılınca, daha yaşlı müşterilerin bankayı terk etme durumları genç müşterilere göre fazla olduğu gözlemleniyor.Ancak 70 yaş üzeri müşterilerin çoğunluğunun da bankayı terk etmediğini söyleyebiliriz.\n",
    "- Bankada yüksek miktarda parası olan müşterilerin bankayı terk ettiğini Balance-Exited grafiğine bakarak yorumlayabiliriz.\n",
    "- Tahmini maaş ile churn olma durumu arasında pek bir fark olmadığını gözlemliyoruz."
   ]
  },
  {
   "cell_type": "code",
   "execution_count": 53,
   "id": "5138fa83",
   "metadata": {},
   "outputs": [
    {
     "data": {
      "image/png": "[encoded data removed]",
      "text/plain": [
       "<Figure size 1008x720 with 2 Axes>"
      ]
     },
     "metadata": {
      "needs_background": "light"
     },
     "output_type": "display_data"
    }
   ],
   "source": [
    "plt.figure(figsize=(14, 10))\n",
    "\n",
    "matrix = np.triu(df_train.corr())\n",
    "\n",
    "sns.heatmap(df_train.corr(), annot=True, cmap = sns.cubehelix_palette(8), mask=matrix)\n",
    "\n",
    "plt.xticks(rotation=45);"
   ]
  },
  {
   "cell_type": "markdown",
   "id": "04e033a9",
   "metadata": {},
   "source": [
    "## Veri Önişleme"
   ]
  },
  {
   "cell_type": "code",
   "execution_count": 29,
   "id": "52e129fa",
   "metadata": {},
   "outputs": [
    {
     "data": {
      "image/png": "[encoded data removed]",
      "text/plain": [
       "<Figure size 432x288 with 1 Axes>"
      ]
     },
     "metadata": {
      "needs_background": "light"
     },
     "output_type": "display_data"
    }
   ],
   "source": [
    "sns.boxplot(x=df_train[\"CreditScore\"]);"
   ]
  },
  {
   "cell_type": "code",
   "execution_count": 31,
   "id": "90bdae68",
   "metadata": {},
   "outputs": [
    {
     "name": "stdout",
     "output_type": "stream",
     "text": [
      "IQR: 135.0 Q1: 583.0 Q3: 718.0\n",
      " alt_sinir: 380.5 \n",
      " ust_sinir: 920.5\n"
     ]
    }
   ],
   "source": [
    "#Yeni bir değişken oluşturup aykırı değerleri bu değişken üzerinden baskılayıp daha sonra asıl veri setine atayacağız.\n",
    "dff= df_train.select_dtypes(include = ['float64', 'int64'])  \n",
    "\n",
    "df_cr=dff[\"CreditScore\"]\n",
    "\n",
    "Q1=df_cr.quantile(0.25)          \n",
    "Q3=df_cr.quantile(0.75)\n",
    "IQR=Q3-Q1\n",
    "print(\"IQR:\",IQR,\"Q1:\", Q1, \"Q3:\",Q3)\n",
    "\n",
    "alt_sinir = Q1-1.5*IQR           #Eşik değer hesaplama\n",
    "ust_sinir = Q3+1.5*IQR\n",
    "print(\"\",\"alt_sinir:\",alt_sinir, \"\\n\",\"ust_sinir:\",ust_sinir)"
   ]
  },
  {
   "cell_type": "code",
   "execution_count": 32,
   "id": "88455875",
   "metadata": {},
   "outputs": [
    {
     "data": {
      "text/plain": [
       "0       False\n",
       "1       False\n",
       "2       False\n",
       "3       False\n",
       "4       False\n",
       "        ...  \n",
       "7995    False\n",
       "7996    False\n",
       "7997    False\n",
       "7998    False\n",
       "7999    False\n",
       "Name: CreditScore, Length: 8000, dtype: bool"
      ]
     },
     "execution_count": 32,
     "metadata": {},
     "output_type": "execute_result"
    }
   ],
   "source": [
    "(df_cr < alt_sinir) | (df_cr > ust_sinir)  #Alt sınırdan küçük veya üst sınırdan büyük değerleri sorguladık"
   ]
  },
  {
   "cell_type": "code",
   "execution_count": 34,
   "id": "5ff548bc",
   "metadata": {},
   "outputs": [],
   "source": [
    "#Aykırı değerler alt sınırda olduğu için yeni değişkeni alt sınırdan küçük olan değişkenlere atıyoruz.\n",
    "aykiri_cr = (df_cr < alt_sinir)    \n",
    "\n",
    "df_cr[aykiri_cr] = alt_sinir    #Aykırı değerleri alt sınır değerine baskılıyoruz.\n",
    "\n",
    "df_train[\"CreditScore\"]=df_cr   "
   ]
  },
  {
   "cell_type": "code",
   "execution_count": 35,
   "id": "b257cbed",
   "metadata": {},
   "outputs": [
    {
     "data": {
      "image/png": "[encoded data removed]",
      "text/plain": [
       "<Figure size 432x288 with 1 Axes>"
      ]
     },
     "metadata": {
      "needs_background": "light"
     },
     "output_type": "display_data"
    }
   ],
   "source": [
    "sns.boxplot(x=df_train[\"CreditScore\"]);"
   ]
  },
  {
   "cell_type": "code",
   "execution_count": 395,
   "id": "20777d73",
   "metadata": {},
   "outputs": [
    {
     "data": {
      "image/png": "[encoded data removed]",
      "text/plain": [
       "<Figure size 432x288 with 1 Axes>"
      ]
     },
     "metadata": {
      "needs_background": "light"
     },
     "output_type": "display_data"
    }
   ],
   "source": [
    "sns.boxplot(x=df_train[\"Age\"]);"
   ]
  },
  {
   "cell_type": "code",
   "execution_count": 89,
   "id": "e21da36b",
   "metadata": {},
   "outputs": [
    {
     "name": "stdout",
     "output_type": "stream",
     "text": [
      "65 yaş üstü müşteri sayısı: 219\n",
      "65 yaş üstü müşteri kayıp sayısı: 31\n"
     ]
    }
   ],
   "source": [
    "x=df_train[(df_train[\"Age\"]>=65)].value_counts()\n",
    "x_churn=(df_train[(df_train[\"Age\"]>=65) & (df_train[\"Exited\"]==1)]).value_counts()\n",
    "print(\"65 yaş üstü müşteri sayısı:\",x.size )\n",
    "print(\"65 yaş üstü müşteri kayıp sayısı:\",x_churn.size )"
   ]
  },
  {
   "cell_type": "markdown",
   "id": "d838a33b",
   "metadata": {},
   "source": [
    "**One-Hot Encoding**"
   ]
  },
  {
   "cell_type": "markdown",
   "id": "a39bfe67",
   "metadata": {},
   "source": [
    "- Model kurmaya başlamadan önce veri setindeki kategorik değişkenleri numeric değişkenlere çeviriyoruz.Ancak one-hot encoding işlemi yaptığımızda değişkenler dummy tuzağına yakalanmaması, yani bilgi karmaşıklılığına yol açmaması için one-hot işlemi yaptığımız değişkenlerin asıl sütunlarını ve oluşturduğumuz yeni değişkenlerden birini siliyoruz."
   ]
  },
  {
   "cell_type": "code",
   "execution_count": 40,
   "id": "bd0cca7f",
   "metadata": {},
   "outputs": [],
   "source": [
    "df_one_hot=pd.get_dummies(df_train, columns = [\"Geography\"], prefix = [\"Geography\"])\n",
    "\n",
    "df_train=df_one_hot\n"
   ]
  },
  {
   "cell_type": "code",
   "execution_count": 41,
   "id": "c197bf9c",
   "metadata": {},
   "outputs": [],
   "source": [
    "df_train.drop(\"Geography_France\", axis=1, inplace=True)"
   ]
  },
  {
   "cell_type": "code",
   "execution_count": 42,
   "id": "231aeaba",
   "metadata": {
    "scrolled": false
   },
   "outputs": [
    {
     "data": {
      "text/html": [
       "<div>\n",
       "<style scoped>\n",
       "    .dataframe tbody tr th:only-of-type {\n",
       "        vertical-align: middle;\n",
       "    }\n",
       "\n",
       "    .dataframe tbody tr th {\n",
       "        vertical-align: top;\n",
       "    }\n",
       "\n",
       "    .dataframe thead th {\n",
       "        text-align: right;\n",
       "    }\n",
       "</style>\n",
       "<table border=\"1\" class=\"dataframe\">\n",
       "  <thead>\n",
       "    <tr style=\"text-align: right;\">\n",
       "      <th></th>\n",
       "      <th>CreditScore</th>\n",
       "      <th>Gender</th>\n",
       "      <th>Age</th>\n",
       "      <th>Tenure</th>\n",
       "      <th>Balance</th>\n",
       "      <th>NumOfProducts</th>\n",
       "      <th>HasCrCard</th>\n",
       "      <th>IsActiveMember</th>\n",
       "      <th>EstimatedSalary</th>\n",
       "      <th>Exited</th>\n",
       "      <th>Geography_Germany</th>\n",
       "      <th>Geography_Spain</th>\n",
       "    </tr>\n",
       "  </thead>\n",
       "  <tbody>\n",
       "    <tr>\n",
       "      <th>0</th>\n",
       "      <td>667.0</td>\n",
       "      <td>Female</td>\n",
       "      <td>34</td>\n",
       "      <td>5</td>\n",
       "      <td>0.00</td>\n",
       "      <td>2</td>\n",
       "      <td>1</td>\n",
       "      <td>0</td>\n",
       "      <td>163830.64</td>\n",
       "      <td>0</td>\n",
       "      <td>0</td>\n",
       "      <td>1</td>\n",
       "    </tr>\n",
       "    <tr>\n",
       "      <th>1</th>\n",
       "      <td>427.0</td>\n",
       "      <td>Male</td>\n",
       "      <td>42</td>\n",
       "      <td>1</td>\n",
       "      <td>75681.52</td>\n",
       "      <td>1</td>\n",
       "      <td>1</td>\n",
       "      <td>1</td>\n",
       "      <td>57098.00</td>\n",
       "      <td>0</td>\n",
       "      <td>1</td>\n",
       "      <td>0</td>\n",
       "    </tr>\n",
       "    <tr>\n",
       "      <th>2</th>\n",
       "      <td>535.0</td>\n",
       "      <td>Female</td>\n",
       "      <td>29</td>\n",
       "      <td>2</td>\n",
       "      <td>112367.34</td>\n",
       "      <td>1</td>\n",
       "      <td>1</td>\n",
       "      <td>0</td>\n",
       "      <td>185630.76</td>\n",
       "      <td>0</td>\n",
       "      <td>0</td>\n",
       "      <td>0</td>\n",
       "    </tr>\n",
       "    <tr>\n",
       "      <th>3</th>\n",
       "      <td>654.0</td>\n",
       "      <td>Male</td>\n",
       "      <td>40</td>\n",
       "      <td>5</td>\n",
       "      <td>105683.63</td>\n",
       "      <td>1</td>\n",
       "      <td>1</td>\n",
       "      <td>0</td>\n",
       "      <td>173617.09</td>\n",
       "      <td>0</td>\n",
       "      <td>0</td>\n",
       "      <td>1</td>\n",
       "    </tr>\n",
       "    <tr>\n",
       "      <th>4</th>\n",
       "      <td>850.0</td>\n",
       "      <td>Female</td>\n",
       "      <td>57</td>\n",
       "      <td>8</td>\n",
       "      <td>126776.30</td>\n",
       "      <td>2</td>\n",
       "      <td>1</td>\n",
       "      <td>1</td>\n",
       "      <td>132298.49</td>\n",
       "      <td>0</td>\n",
       "      <td>0</td>\n",
       "      <td>1</td>\n",
       "    </tr>\n",
       "    <tr>\n",
       "      <th>...</th>\n",
       "      <td>...</td>\n",
       "      <td>...</td>\n",
       "      <td>...</td>\n",
       "      <td>...</td>\n",
       "      <td>...</td>\n",
       "      <td>...</td>\n",
       "      <td>...</td>\n",
       "      <td>...</td>\n",
       "      <td>...</td>\n",
       "      <td>...</td>\n",
       "      <td>...</td>\n",
       "      <td>...</td>\n",
       "    </tr>\n",
       "    <tr>\n",
       "      <th>7995</th>\n",
       "      <td>594.0</td>\n",
       "      <td>Female</td>\n",
       "      <td>32</td>\n",
       "      <td>4</td>\n",
       "      <td>120074.97</td>\n",
       "      <td>2</td>\n",
       "      <td>1</td>\n",
       "      <td>1</td>\n",
       "      <td>162961.79</td>\n",
       "      <td>0</td>\n",
       "      <td>1</td>\n",
       "      <td>0</td>\n",
       "    </tr>\n",
       "    <tr>\n",
       "      <th>7996</th>\n",
       "      <td>794.0</td>\n",
       "      <td>Female</td>\n",
       "      <td>22</td>\n",
       "      <td>4</td>\n",
       "      <td>114440.24</td>\n",
       "      <td>1</td>\n",
       "      <td>1</td>\n",
       "      <td>1</td>\n",
       "      <td>107753.07</td>\n",
       "      <td>0</td>\n",
       "      <td>0</td>\n",
       "      <td>1</td>\n",
       "    </tr>\n",
       "    <tr>\n",
       "      <th>7997</th>\n",
       "      <td>738.0</td>\n",
       "      <td>Male</td>\n",
       "      <td>35</td>\n",
       "      <td>5</td>\n",
       "      <td>161274.05</td>\n",
       "      <td>2</td>\n",
       "      <td>1</td>\n",
       "      <td>0</td>\n",
       "      <td>181429.87</td>\n",
       "      <td>0</td>\n",
       "      <td>0</td>\n",
       "      <td>0</td>\n",
       "    </tr>\n",
       "    <tr>\n",
       "      <th>7998</th>\n",
       "      <td>590.0</td>\n",
       "      <td>Female</td>\n",
       "      <td>38</td>\n",
       "      <td>9</td>\n",
       "      <td>0.00</td>\n",
       "      <td>2</td>\n",
       "      <td>1</td>\n",
       "      <td>1</td>\n",
       "      <td>148750.16</td>\n",
       "      <td>0</td>\n",
       "      <td>0</td>\n",
       "      <td>1</td>\n",
       "    </tr>\n",
       "    <tr>\n",
       "      <th>7999</th>\n",
       "      <td>623.0</td>\n",
       "      <td>Female</td>\n",
       "      <td>48</td>\n",
       "      <td>1</td>\n",
       "      <td>108076.33</td>\n",
       "      <td>1</td>\n",
       "      <td>1</td>\n",
       "      <td>0</td>\n",
       "      <td>118855.26</td>\n",
       "      <td>1</td>\n",
       "      <td>1</td>\n",
       "      <td>0</td>\n",
       "    </tr>\n",
       "  </tbody>\n",
       "</table>\n",
       "<p>8000 rows × 12 columns</p>\n",
       "</div>"
      ],
      "text/plain": [
       "      CreditScore  Gender  Age  Tenure    Balance  NumOfProducts  HasCrCard  \\\n",
       "0           667.0  Female   34       5       0.00              2          1   \n",
       "1           427.0    Male   42       1   75681.52              1          1   \n",
       "2           535.0  Female   29       2  112367.34              1          1   \n",
       "3           654.0    Male   40       5  105683.63              1          1   \n",
       "4           850.0  Female   57       8  126776.30              2          1   \n",
       "...           ...     ...  ...     ...        ...            ...        ...   \n",
       "7995        594.0  Female   32       4  120074.97              2          1   \n",
       "7996        794.0  Female   22       4  114440.24              1          1   \n",
       "7997        738.0    Male   35       5  161274.05              2          1   \n",
       "7998        590.0  Female   38       9       0.00              2          1   \n",
       "7999        623.0  Female   48       1  108076.33              1          1   \n",
       "\n",
       "      IsActiveMember  EstimatedSalary  Exited  Geography_Germany  \\\n",
       "0                  0        163830.64       0                  0   \n",
       "1                  1         57098.00       0                  1   \n",
       "2                  0        185630.76       0                  0   \n",
       "3                  0        173617.09       0                  0   \n",
       "4                  1        132298.49       0                  0   \n",
       "...              ...              ...     ...                ...   \n",
       "7995               1        162961.79       0                  1   \n",
       "7996               1        107753.07       0                  0   \n",
       "7997               0        181429.87       0                  0   \n",
       "7998               1        148750.16       0                  0   \n",
       "7999               0        118855.26       1                  1   \n",
       "\n",
       "      Geography_Spain  \n",
       "0                   1  \n",
       "1                   0  \n",
       "2                   0  \n",
       "3                   1  \n",
       "4                   1  \n",
       "...               ...  \n",
       "7995                0  \n",
       "7996                1  \n",
       "7997                0  \n",
       "7998                1  \n",
       "7999                0  \n",
       "\n",
       "[8000 rows x 12 columns]"
      ]
     },
     "execution_count": 42,
     "metadata": {},
     "output_type": "execute_result"
    }
   ],
   "source": [
    "df_train"
   ]
  },
  {
   "cell_type": "markdown",
   "id": "c3c60c5b",
   "metadata": {},
   "source": [
    "**Label Encoding**"
   ]
  },
  {
   "cell_type": "code",
   "execution_count": 43,
   "id": "bd69dd70",
   "metadata": {},
   "outputs": [
    {
     "data": {
      "text/plain": [
       "array([0, 1, 0, ..., 1, 0, 0])"
      ]
     },
     "execution_count": 43,
     "metadata": {},
     "output_type": "execute_result"
    }
   ],
   "source": [
    "lbe = LabelEncoder()\n",
    "\n",
    "lbe.fit_transform(df_train[\"Gender\"])"
   ]
  },
  {
   "cell_type": "code",
   "execution_count": 44,
   "id": "e51be1b6",
   "metadata": {},
   "outputs": [],
   "source": [
    "df_train[\"Gender_\"] = lbe.fit_transform(df_train[\"Gender\"])\n",
    "\n",
    "df_train.drop(\"Gender\", axis=1, inplace=True)\n"
   ]
  },
  {
   "cell_type": "markdown",
   "id": "37808d73",
   "metadata": {},
   "source": [
    "## Model"
   ]
  },
  {
   "cell_type": "markdown",
   "id": "4bda3927",
   "metadata": {},
   "source": [
    "- Train ve test adında iki ayrı veri setimiz mevcuttur.Train dosyasıyla eğiteceğimiz datayı modelin henüz görmediği test setiyle değerlendireceğiz.Çünkü eğitim verileri üzerinde iyi bir performans ölçümüne sahip olmak, iyi ama yetersizdir.Gerçek amacımız, yeni örneklerde iyi performans göstermesidir."
   ]
  },
  {
   "cell_type": "code",
   "execution_count": 45,
   "id": "9c887e92",
   "metadata": {},
   "outputs": [],
   "source": [
    "y=df_train[\"Exited\"]                    #Train datası\n",
    "X=df_train.drop(\"Exited\", axis=1)"
   ]
  },
  {
   "cell_type": "markdown",
   "id": "34017da4",
   "metadata": {},
   "source": [
    "Train veri setini test-train olarak ikiye ayırdık ancak burdaki test işlemi aslında train verilerindeki doğrulama işlemidir."
   ]
  },
  {
   "cell_type": "code",
   "execution_count": 46,
   "id": "70065baf",
   "metadata": {},
   "outputs": [],
   "source": [
    "x_train, x_test, y_train, y_test = train_test_split(\n",
    "X, y, test_size=0.20, random_state=123)"
   ]
  },
  {
   "cell_type": "code",
   "execution_count": 47,
   "id": "e6419bb2",
   "metadata": {},
   "outputs": [
    {
     "name": "stdout",
     "output_type": "stream",
     "text": [
      "x_train (6400, 11)\n",
      "x_test (1600, 11)\n",
      "y_train (6400,)\n",
      "y_test (1600,)\n"
     ]
    }
   ],
   "source": [
    "print(\"x_train\",x_train.shape)\n",
    "print(\"x_test\",x_test.shape)\n",
    "print(\"y_train\",y_train.shape)\n",
    "print(\"y_test\",y_test.shape)"
   ]
  },
  {
   "cell_type": "code",
   "execution_count": 48,
   "id": "921f35e7",
   "metadata": {},
   "outputs": [
    {
     "data": {
      "text/plain": [
       "0    5090\n",
       "1    1310\n",
       "Name: Exited, dtype: int64"
      ]
     },
     "execution_count": 48,
     "metadata": {},
     "output_type": "execute_result"
    }
   ],
   "source": [
    "y_train.value_counts()"
   ]
  },
  {
   "cell_type": "code",
   "execution_count": 49,
   "id": "3956f624",
   "metadata": {
    "scrolled": false
   },
   "outputs": [
    {
     "data": {
      "text/plain": [
       "0    5090\n",
       "1    5090\n",
       "Name: Exited, dtype: int64"
      ]
     },
     "execution_count": 49,
     "metadata": {},
     "output_type": "execute_result"
    }
   ],
   "source": [
    "over = SMOTE(sampling_strategy='auto', random_state=3012)\n",
    "x_train, y_train = over.fit_resample(x_train, y_train)\n",
    "\n",
    "y_train.value_counts()"
   ]
  },
  {
   "cell_type": "markdown",
   "id": "f757ffdb",
   "metadata": {},
   "source": [
    "Makine öğrenmesi modelleri olarak;\n",
    "- Random Forest\n",
    "- Gradient Boosting\n",
    "- XGBoost\n",
    "- LightGBM modelleri kullandım."
   ]
  },
  {
   "cell_type": "markdown",
   "id": "dbed2829",
   "metadata": {},
   "source": [
    "### Random Forest"
   ]
  },
  {
   "cell_type": "code",
   "execution_count": 50,
   "id": "f838fd6e",
   "metadata": {},
   "outputs": [],
   "source": [
    "rf_model = RandomForestClassifier(random_state=0).fit(x_train, y_train)     #Modelimizi kuruyoruz."
   ]
  },
  {
   "cell_type": "code",
   "execution_count": 51,
   "id": "634e11a4",
   "metadata": {},
   "outputs": [
    {
     "data": {
      "text/plain": [
       "0.800625"
      ]
     },
     "execution_count": 51,
     "metadata": {},
     "output_type": "execute_result"
    }
   ],
   "source": [
    "y_pred = rf_model.predict(x_test)        #Test verilerini modele verip tahmin işlemi yapmasını istiyoruz \n",
    "accuracy_score(y_test, y_pred)"
   ]
  },
  {
   "cell_type": "code",
   "execution_count": 52,
   "id": "168c180b",
   "metadata": {},
   "outputs": [
    {
     "name": "stdout",
     "output_type": "stream",
     "text": [
      "Cross validation skoru: 0.85625\n"
     ]
    }
   ],
   "source": [
    "print(\"Cross validation skoru:\",cross_val_score(rf_model, x_test, y_test, cv = 10).mean())"
   ]
  },
  {
   "cell_type": "code",
   "execution_count": 53,
   "id": "da904914",
   "metadata": {},
   "outputs": [
    {
     "name": "stdout",
     "output_type": "stream",
     "text": [
      "Accuracy skore değeri:\n",
      "0.800625\n",
      "Classification Report:\n",
      "              precision    recall  f1-score   support\n",
      "\n",
      "           0       0.90      0.85      0.87      1278\n",
      "           1       0.50      0.61      0.55       322\n",
      "\n",
      "    accuracy                           0.80      1600\n",
      "   macro avg       0.70      0.73      0.71      1600\n",
      "weighted avg       0.82      0.80      0.81      1600\n",
      "\n",
      "Confusion Matrix:\n",
      "[[1085  193]\n",
      " [ 126  196]]\n"
     ]
    }
   ],
   "source": [
    "def rf_evaluate(rf_model, x_train, x_test, y_train, y_test):\n",
    "    rf_model.fit(x_train, y_train)\n",
    "    \n",
    "    print (\"Accuracy skore değeri:\")\n",
    "    print (rf_model.score(x_test, y_test))\n",
    "    y_pred = rf_model.predict(x_test)\n",
    "\n",
    "    print (\"Classification Report:\")\n",
    "    print (metrics.classification_report(y_test, y_pred))\n",
    "    print (\"Confusion Matrix:\")\n",
    "    print (metrics.confusion_matrix(y_test, y_pred))\n",
    "\n",
    "rf_evaluate(rf_model, x_train, x_test, y_train, y_test)"
   ]
  },
  {
   "cell_type": "code",
   "execution_count": 54,
   "id": "1377dfc8",
   "metadata": {},
   "outputs": [
    {
     "data": {
      "image/png": "[encoded data removed]",
      "text/plain": [
       "<Figure size 432x288 with 1 Axes>"
      ]
     },
     "metadata": {
      "needs_background": "light"
     },
     "output_type": "display_data"
    }
   ],
   "source": [
    "Importance = pd.DataFrame({\"Importance\": rf_model.feature_importances_*100},\n",
    "                         index = x_train.columns)\n",
    "\n",
    "Importance.sort_values(by = \"Importance\", \n",
    "                       axis = 0, \n",
    "                       ascending = True).plot(kind =\"barh\", color = \"r\")\n",
    "\n",
    "plt.xlabel(\"Değişken Önem Düzeyleri\");"
   ]
  },
  {
   "cell_type": "code",
   "execution_count": 55,
   "id": "f5dd22c5",
   "metadata": {
    "scrolled": true
   },
   "outputs": [
    {
     "name": "stdout",
     "output_type": "stream",
     "text": [
      "[[1085  193]\n",
      " [ 126  196]]\n"
     ]
    },
    {
     "data": {
      "image/png": "[encoded data removed]",
      "text/plain": [
       "<Figure size 432x288 with 2 Axes>"
      ]
     },
     "metadata": {
      "needs_background": "light"
     },
     "output_type": "display_data"
    }
   ],
   "source": [
    "cf_matrix_rf = confusion_matrix(y_test, y_pred)\n",
    "print(cf_matrix_rf)\n",
    "sns.heatmap(cf_matrix_rf/np.sum(cf_matrix_rf), annot=True, \n",
    "            fmt='.2%', cmap='Blues');"
   ]
  },
  {
   "cell_type": "markdown",
   "id": "3ebb9555",
   "metadata": {},
   "source": [
    "- Confusion matrix tablosuna bakarsak modelimizin ne kadar doğru ve ne kadar yanlış tahmin yaptığını görebiliriz."
   ]
  },
  {
   "cell_type": "code",
   "execution_count": 56,
   "id": "a73a641e",
   "metadata": {},
   "outputs": [
    {
     "data": {
      "image/png": "[encoded data removed]",
      "text/plain": [
       "<Figure size 360x360 with 2 Axes>"
      ]
     },
     "metadata": {
      "needs_background": "light"
     },
     "output_type": "display_data"
    }
   ],
   "source": [
    "y_pred = rf_model.predict(x_test)\n",
    "y_rf_true=y_pred\n",
    "cm = confusion_matrix(y_test,y_rf_true)\n",
    "\n",
    "f, ax = plt.subplots(figsize =(5,5))\n",
    "sns.heatmap(cm,annot = True,linewidths=0.5,linecolor=\"red\",fmt = \".0f\",ax=ax)\n",
    "plt.xlabel(\"y_pred\")\n",
    "plt.ylabel(\"y_test\")\n",
    "plt.show()"
   ]
  },
  {
   "cell_type": "code",
   "execution_count": 57,
   "id": "7716a690",
   "metadata": {},
   "outputs": [
    {
     "data": {
      "image/png": "[encoded data removed]",
      "text/plain": [
       "<Figure size 432x288 with 1 Axes>"
      ]
     },
     "metadata": {
      "needs_background": "light"
     },
     "output_type": "display_data"
    }
   ],
   "source": [
    "rf_roc_auc = roc_auc_score(y_test, rf_model.predict(x_test))\n",
    "\n",
    "fpr, tpr, thresholds = roc_curve(y_test, rf_model.predict_proba(x_test)[:,1])\n",
    "plt.figure()\n",
    "plt.plot(fpr, tpr, label='AUC (area = %0.2f)' % rf_roc_auc)\n",
    "plt.plot([0, 1], [0, 1],'r--')\n",
    "plt.xlim([0.0, 1.0])\n",
    "plt.ylim([0.0, 1.05])\n",
    "plt.xlabel('False Positive Oranı')\n",
    "plt.ylabel('True Positive Oranı')\n",
    "plt.title('ROC')\n",
    "plt.show()"
   ]
  },
  {
   "cell_type": "code",
   "execution_count": 58,
   "id": "7921681b",
   "metadata": {},
   "outputs": [
    {
     "name": "stdout",
     "output_type": "stream",
     "text": [
      "Eğrinin altındaki alan (AUC) :  0.7288392188882085 \n",
      "\n"
     ]
    }
   ],
   "source": [
    "model_roc_auc = roc_auc_score(y_test,y_pred) \n",
    "print (\"Eğrinin altındaki alan (AUC) : \",model_roc_auc,\"\\n\")\n",
    "fpr,tpr,thresholds = roc_curve(y_test,y_pred)"
   ]
  },
  {
   "cell_type": "markdown",
   "id": "8e49d413",
   "metadata": {},
   "source": [
    "### Gradient Boosting"
   ]
  },
  {
   "cell_type": "code",
   "execution_count": 59,
   "id": "a02d0176",
   "metadata": {},
   "outputs": [],
   "source": [
    "gbm_model = GradientBoostingClassifier(random_state=1).fit(x_train, y_train)"
   ]
  },
  {
   "cell_type": "code",
   "execution_count": 60,
   "id": "d98bc2cb",
   "metadata": {},
   "outputs": [
    {
     "data": {
      "text/plain": [
       "array([[1072,  206],\n",
       "       [ 100,  222]], dtype=int64)"
      ]
     },
     "execution_count": 60,
     "metadata": {},
     "output_type": "execute_result"
    }
   ],
   "source": [
    "y_pred = gbm_model.predict(x_test)\n",
    "\n",
    "confusion_matrix(y_test, y_pred)"
   ]
  },
  {
   "cell_type": "code",
   "execution_count": 61,
   "id": "6c7b90dc",
   "metadata": {},
   "outputs": [
    {
     "name": "stdout",
     "output_type": "stream",
     "text": [
      "Cross validation skoru: 0.846875\n"
     ]
    }
   ],
   "source": [
    "print(\"Cross validation skoru:\",cross_val_score(gbm_model, x_test, y_test, cv = 10).mean())"
   ]
  },
  {
   "cell_type": "code",
   "execution_count": 62,
   "id": "e6dae9dd",
   "metadata": {},
   "outputs": [
    {
     "name": "stdout",
     "output_type": "stream",
     "text": [
      "Accuracy skore değeri:\n",
      "0.80875\n",
      "Classification Report:\n",
      "              precision    recall  f1-score   support\n",
      "\n",
      "           0       0.91      0.84      0.88      1278\n",
      "           1       0.52      0.69      0.59       322\n",
      "\n",
      "    accuracy                           0.81      1600\n",
      "   macro avg       0.72      0.76      0.73      1600\n",
      "weighted avg       0.83      0.81      0.82      1600\n",
      "\n",
      "Confusion Matrix:\n",
      "[[1072  206]\n",
      " [ 100  222]]\n"
     ]
    }
   ],
   "source": [
    "def gbm_evaluate(gbm_model, x_train, x_test, y_train, y_test):\n",
    "    gbm_model.fit(x_train, y_train)\n",
    "    \n",
    "    print (\"Accuracy skore değeri:\")\n",
    "    print (gbm_model.score(x_test, y_test))\n",
    "    y_pred = gbm_model.predict(x_test)\n",
    "\n",
    "    print (\"Classification Report:\")\n",
    "    print (metrics.classification_report(y_test, y_pred))\n",
    "    print (\"Confusion Matrix:\")\n",
    "    print (metrics.confusion_matrix(y_test, y_pred))\n",
    "\n",
    "gbm_evaluate(gbm_model, x_train, x_test, y_train, y_test)"
   ]
  },
  {
   "cell_type": "code",
   "execution_count": 63,
   "id": "28f1b639",
   "metadata": {},
   "outputs": [
    {
     "name": "stdout",
     "output_type": "stream",
     "text": [
      "[[1072  206]\n",
      " [ 100  222]]\n"
     ]
    },
    {
     "data": {
      "image/png": "[encoded data removed]",
      "text/plain": [
       "<Figure size 432x288 with 2 Axes>"
      ]
     },
     "metadata": {
      "needs_background": "light"
     },
     "output_type": "display_data"
    }
   ],
   "source": [
    "cf_matrix_gbm = confusion_matrix(y_test, y_pred)\n",
    "print(cf_matrix_gbm)\n",
    "sns.heatmap(cf_matrix_gbm/np.sum(cf_matrix_gbm), annot=True, \n",
    "            fmt='.2%', cmap='Greens');"
   ]
  },
  {
   "cell_type": "code",
   "execution_count": 64,
   "id": "2b21a646",
   "metadata": {},
   "outputs": [
    {
     "data": {
      "image/png": "[encoded data removed]",
      "text/plain": [
       "<Figure size 432x288 with 1 Axes>"
      ]
     },
     "metadata": {
      "needs_background": "light"
     },
     "output_type": "display_data"
    }
   ],
   "source": [
    "gbm_roc_auc = roc_auc_score(y_test, gbm_model.predict(x_test))\n",
    "\n",
    "fpr, tpr, thresholds = roc_curve(y_test, gbm_model.predict_proba(x_test)[:,1])\n",
    "plt.figure()\n",
    "plt.plot(fpr, tpr, label='AUC (area = %0.2f)' % gbm_roc_auc)\n",
    "plt.plot([0, 1], [0, 1],'r--')\n",
    "plt.xlim([0.0, 1.0])\n",
    "plt.ylim([0.0, 1.05])\n",
    "plt.xlabel('False Positive Oranı')\n",
    "plt.ylabel('True Positive Oranı')\n",
    "plt.title('ROC')\n",
    "plt.show()"
   ]
  },
  {
   "cell_type": "code",
   "execution_count": 65,
   "id": "bd5b95ba",
   "metadata": {},
   "outputs": [
    {
     "name": "stdout",
     "output_type": "stream",
     "text": [
      "Eğrinin altındaki alan (AUC) :  0.7641258177081814 \n",
      "\n"
     ]
    }
   ],
   "source": [
    "model_roc_auc = roc_auc_score(y_test,y_pred) \n",
    "print (\"Eğrinin altındaki alan (AUC) : \",model_roc_auc,\"\\n\")\n",
    "fpr,tpr,thresholds = roc_curve(y_test,y_pred)"
   ]
  },
  {
   "cell_type": "code",
   "execution_count": 66,
   "id": "3391c638",
   "metadata": {},
   "outputs": [
    {
     "data": {
      "image/png": "[encoded data removed]",
      "text/plain": [
       "<Figure size 432x288 with 1 Axes>"
      ]
     },
     "metadata": {
      "needs_background": "light"
     },
     "output_type": "display_data"
    }
   ],
   "source": [
    "Importance = pd.DataFrame({\"Importance\": gbm_model.feature_importances_*100},\n",
    "                         index = x_train.columns)\n",
    "\n",
    "Importance.sort_values(by = \"Importance\", \n",
    "                       axis = 0, \n",
    "                       ascending = True).plot(kind =\"barh\", color = \"b\")\n",
    "\n",
    "plt.xlabel(\"Değişken Önem Düzeyleri\");"
   ]
  },
  {
   "cell_type": "markdown",
   "id": "6faff214",
   "metadata": {},
   "source": [
    "### XGBoost"
   ]
  },
  {
   "cell_type": "code",
   "execution_count": 67,
   "id": "9097caaf",
   "metadata": {},
   "outputs": [],
   "source": [
    "xgb_model=XGBClassifier().fit(x_train, y_train)"
   ]
  },
  {
   "cell_type": "code",
   "execution_count": 68,
   "id": "32002179",
   "metadata": {},
   "outputs": [
    {
     "name": "stdout",
     "output_type": "stream",
     "text": [
      "Accuracy skoru: 0.8025\n",
      "Cross validation skoru: 0.838125\n"
     ]
    }
   ],
   "source": [
    "y_pred = xgb_model.predict(x_test)\n",
    "\n",
    "print(\"Accuracy skoru:\",accuracy_score(y_test, y_pred))\n",
    "print(\"Cross validation skoru:\",cross_val_score(xgb_model, x_test, y_test, cv = 10).mean())"
   ]
  },
  {
   "cell_type": "code",
   "execution_count": 69,
   "id": "62e5ae19",
   "metadata": {},
   "outputs": [
    {
     "name": "stdout",
     "output_type": "stream",
     "text": [
      "Accuracy skore değeri:\n",
      "0.8025\n",
      "Classification Report:\n",
      "              precision    recall  f1-score   support\n",
      "\n",
      "           0       0.90      0.85      0.87      1278\n",
      "           1       0.51      0.62      0.56       322\n",
      "\n",
      "    accuracy                           0.80      1600\n",
      "   macro avg       0.70      0.73      0.72      1600\n",
      "weighted avg       0.82      0.80      0.81      1600\n",
      "\n",
      "Confusion Matrix:\n",
      "[[1084  194]\n",
      " [ 122  200]]\n"
     ]
    }
   ],
   "source": [
    "def xgb_evaluate(xgb_model, x_train, x_test, y_train, y_test):\n",
    "    xgb_model.fit(x_train, y_train)\n",
    "    \n",
    "    print (\"Accuracy skore değeri:\")\n",
    "    print (xgb_model.score(x_test, y_test))\n",
    "    y_pred = xgb_model.predict(x_test)\n",
    "\n",
    "    print (\"Classification Report:\")\n",
    "    print (metrics.classification_report(y_test, y_pred))\n",
    "    print (\"Confusion Matrix:\")\n",
    "    print (metrics.confusion_matrix(y_test, y_pred))\n",
    "\n",
    "xgb_evaluate(xgb_model, x_train, x_test, y_train, y_test)"
   ]
  },
  {
   "cell_type": "code",
   "execution_count": 70,
   "id": "327c013d",
   "metadata": {
    "scrolled": true
   },
   "outputs": [
    {
     "name": "stdout",
     "output_type": "stream",
     "text": [
      "[[1084  194]\n",
      " [ 122  200]]\n"
     ]
    },
    {
     "data": {
      "image/png": "[encoded data removed]",
      "text/plain": [
       "<Figure size 432x288 with 2 Axes>"
      ]
     },
     "metadata": {
      "needs_background": "light"
     },
     "output_type": "display_data"
    }
   ],
   "source": [
    "cf_matrix_xgb = confusion_matrix(y_test, y_pred)\n",
    "print(cf_matrix_xgb)\n",
    "sns.heatmap(cf_matrix_xgb/np.sum(cf_matrix_xgb), annot=True, \n",
    "            fmt='.2%', cmap='Reds');"
   ]
  },
  {
   "cell_type": "code",
   "execution_count": 71,
   "id": "84fa0859",
   "metadata": {},
   "outputs": [
    {
     "data": {
      "image/png": "[encoded data removed]",
      "text/plain": [
       "<Figure size 432x288 with 1 Axes>"
      ]
     },
     "metadata": {
      "needs_background": "light"
     },
     "output_type": "display_data"
    }
   ],
   "source": [
    "Importance = pd.DataFrame({\"Importance\": xgb_model.feature_importances_*100},\n",
    "                         index = x_train.columns)\n",
    "\n",
    "Importance.sort_values(by = \"Importance\", \n",
    "                       axis = 0, \n",
    "                       ascending = True).plot(kind =\"barh\", color = \"y\")\n",
    "\n",
    "plt.xlabel(\"Değişken Önem Düzeyleri\");"
   ]
  },
  {
   "cell_type": "markdown",
   "id": "6f57003d",
   "metadata": {},
   "source": [
    "### LightGBM"
   ]
  },
  {
   "cell_type": "code",
   "execution_count": 72,
   "id": "041ad33c",
   "metadata": {},
   "outputs": [],
   "source": [
    "lgbm_model = LGBMClassifier(random_state=5).fit(x_train, y_train)"
   ]
  },
  {
   "cell_type": "code",
   "execution_count": 73,
   "id": "ededa6cf",
   "metadata": {},
   "outputs": [
    {
     "name": "stdout",
     "output_type": "stream",
     "text": [
      "Accuracy skoru: 0.81875\n",
      "Cross validation skoru: 0.8393749999999999\n"
     ]
    }
   ],
   "source": [
    "y_pred = lgbm_model.predict(x_test)\n",
    "\n",
    "print(\"Accuracy skoru:\",accuracy_score(y_test, y_pred))\n",
    "print(\"Cross validation skoru:\",cross_val_score(lgbm_model, x_test, y_test, cv = 10).mean())"
   ]
  },
  {
   "cell_type": "code",
   "execution_count": 74,
   "id": "5f69ca6b",
   "metadata": {},
   "outputs": [
    {
     "name": "stdout",
     "output_type": "stream",
     "text": [
      "Accuracy skore değeri:\n",
      "0.81875\n",
      "Classification Report:\n",
      "              precision    recall  f1-score   support\n",
      "\n",
      "           0       0.91      0.85      0.88      1278\n",
      "           1       0.54      0.68      0.60       322\n",
      "\n",
      "    accuracy                           0.82      1600\n",
      "   macro avg       0.73      0.77      0.74      1600\n",
      "weighted avg       0.84      0.82      0.83      1600\n",
      "\n",
      "Confusion Matrix:\n",
      "[[1091  187]\n",
      " [ 103  219]]\n"
     ]
    }
   ],
   "source": [
    "def lgbm_evaluate(lgbm_model, x_train, x_test, y_train, y_test):\n",
    "    lgbm_model.fit(x_train, y_train)\n",
    "    \n",
    "    print (\"Accuracy skore değeri:\")\n",
    "    print (lgbm_model.score(x_test, y_test))\n",
    "    y_pred = lgbm_model.predict(x_test)\n",
    "\n",
    "    print (\"Classification Report:\")\n",
    "    print (metrics.classification_report(y_test, y_pred))\n",
    "    print (\"Confusion Matrix:\")\n",
    "    print (metrics.confusion_matrix(y_test, y_pred))\n",
    "\n",
    "lgbm_evaluate(lgbm_model, x_train, x_test, y_train, y_test)"
   ]
  },
  {
   "cell_type": "code",
   "execution_count": 75,
   "id": "2f499550",
   "metadata": {},
   "outputs": [
    {
     "data": {
      "text/plain": [
       "array([[0.78280901, 0.21719099],\n",
       "       [0.88941922, 0.11058078],\n",
       "       [0.96878668, 0.03121332],\n",
       "       [0.42954955, 0.57045045],\n",
       "       [0.64249107, 0.35750893],\n",
       "       [0.86742627, 0.13257373],\n",
       "       [0.74459829, 0.25540171],\n",
       "       [0.7029259 , 0.2970741 ],\n",
       "       [0.92791034, 0.07208966],\n",
       "       [0.75461213, 0.24538787]])"
      ]
     },
     "execution_count": 75,
     "metadata": {},
     "output_type": "execute_result"
    }
   ],
   "source": [
    "lgbm_model.predict_proba(x_test)[0:10]"
   ]
  },
  {
   "cell_type": "code",
   "execution_count": 76,
   "id": "adbcd12f",
   "metadata": {},
   "outputs": [
    {
     "data": {
      "text/plain": [
       "5676    0\n",
       "617     0\n",
       "415     0\n",
       "7687    0\n",
       "6708    0\n",
       "6864    0\n",
       "6664    0\n",
       "6905    1\n",
       "3390    0\n",
       "6725    0\n",
       "Name: Exited, dtype: int64"
      ]
     },
     "execution_count": 76,
     "metadata": {},
     "output_type": "execute_result"
    }
   ],
   "source": [
    "y_test[0:10]"
   ]
  },
  {
   "cell_type": "code",
   "execution_count": 77,
   "id": "6d2fc5e3",
   "metadata": {},
   "outputs": [
    {
     "name": "stdout",
     "output_type": "stream",
     "text": [
      "[[1091  187]\n",
      " [ 103  219]]\n"
     ]
    },
    {
     "data": {
      "image/png": "[encoded data removed]",
      "text/plain": [
       "<Figure size 432x288 with 2 Axes>"
      ]
     },
     "metadata": {
      "needs_background": "light"
     },
     "output_type": "display_data"
    }
   ],
   "source": [
    "cf_matrix_lgbm = confusion_matrix(y_test, y_pred)\n",
    "print(cf_matrix_lgbm)\n",
    "sns.heatmap(cf_matrix_lgbm/np.sum(cf_matrix_lgbm), annot=True, \n",
    "            fmt='.2%', cmap='Reds');"
   ]
  },
  {
   "cell_type": "code",
   "execution_count": 78,
   "id": "d3abb577",
   "metadata": {},
   "outputs": [
    {
     "data": {
      "image/png": "[encoded data removed]",
      "text/plain": [
       "<Figure size 360x360 with 2 Axes>"
      ]
     },
     "metadata": {
      "needs_background": "light"
     },
     "output_type": "display_data"
    }
   ],
   "source": [
    "y_pred = lgbm_model.predict(x_test)\n",
    "y_lgbm_true=y_pred\n",
    "cm = confusion_matrix(y_test,y_lgbm_true)\n",
    "\n",
    "f, ax = plt.subplots(figsize =(5,5))\n",
    "sns.heatmap(cm,annot = True,linewidths=0.5,linecolor=\"red\",fmt = \".0f\",ax=ax)\n",
    "plt.xlabel(\"y_pred\")\n",
    "plt.ylabel(\"y_test\")\n",
    "plt.show()"
   ]
  },
  {
   "cell_type": "code",
   "execution_count": 79,
   "id": "416beafc",
   "metadata": {},
   "outputs": [
    {
     "data": {
      "image/png": "[encoded data removed]",
      "text/plain": [
       "<Figure size 432x288 with 1 Axes>"
      ]
     },
     "metadata": {
      "needs_background": "light"
     },
     "output_type": "display_data"
    }
   ],
   "source": [
    "lgbm_roc_auc = roc_auc_score(y_test, lgbm_model.predict(x_test))\n",
    "\n",
    "fpr, tpr, thresholds = roc_curve(y_test, lgbm_model.predict_proba(x_test)[:,1])\n",
    "plt.figure()\n",
    "plt.plot(fpr, tpr, label='AUC (area = %0.2f)' % lgbm_roc_auc)\n",
    "plt.plot([0, 1], [0, 1],'r--')\n",
    "plt.xlim([0.0, 1.0])\n",
    "plt.ylim([0.0, 1.05])\n",
    "plt.xlabel('False Positive Oranı')\n",
    "plt.ylabel('True Positive Oranı')\n",
    "plt.title('ROC')\n",
    "plt.show()"
   ]
  },
  {
   "cell_type": "code",
   "execution_count": 80,
   "id": "dd767cf8",
   "metadata": {},
   "outputs": [
    {
     "name": "stdout",
     "output_type": "stream",
     "text": [
      "Eğrinin altındaki alan (AUC) :  0.7669009224428698 \n",
      "\n"
     ]
    }
   ],
   "source": [
    "model_roc_auc = roc_auc_score(y_test,y_pred) \n",
    "print (\"Eğrinin altındaki alan (AUC) : \",model_roc_auc,\"\\n\")\n",
    "fpr,tpr,thresholds = roc_curve(y_test,y_pred)"
   ]
  },
  {
   "cell_type": "code",
   "execution_count": 81,
   "id": "ea43e992",
   "metadata": {
    "scrolled": true
   },
   "outputs": [
    {
     "data": {
      "image/png": "[encoded data removed]",
      "text/plain": [
       "<Figure size 432x288 with 1 Axes>"
      ]
     },
     "metadata": {
      "needs_background": "light"
     },
     "output_type": "display_data"
    }
   ],
   "source": [
    "Importance = pd.DataFrame({\"Importance\": lgbm_model.feature_importances_*100},\n",
    "                         index = x_train.columns)\n",
    "\n",
    "Importance.sort_values(by = \"Importance\", \n",
    "                       axis = 0, \n",
    "                       ascending = True).plot(kind =\"barh\", color = \"g\")\n",
    "\n",
    "plt.xlabel(\"Değişken Önem Düzeyleri\");"
   ]
  },
  {
   "cell_type": "markdown",
   "id": "551b1188",
   "metadata": {},
   "source": [
    "## Modelin Train Setinde Hiç Görmediği Veri Setiyle Değerlendirme"
   ]
  },
  {
   "cell_type": "markdown",
   "id": "468682dd",
   "metadata": {},
   "source": [
    "Test verileri (veri setinin geri kalan % 20'sini) modelin performansını değerlendirmek ve eğitilmiş modelin görünmeyen verilere ne kadar iyi genellendiğini ölçmek için kullanacağız."
   ]
  },
  {
   "cell_type": "code",
   "execution_count": 82,
   "id": "2947bb0a",
   "metadata": {},
   "outputs": [],
   "source": [
    "df_test.drop(\"RowNumber\", axis=1, inplace=True)   \n",
    "df_test.drop(\"CustomerId\", axis=1, inplace=True)\n",
    "df_test.drop(\"Surname\", axis=1, inplace=True)\n",
    "\n",
    "\n",
    "df_one=pd.get_dummies(df_test, columns = [\"Geography\"], prefix = [\"Geography\"])\n",
    "df_test=df_one\n",
    "\n",
    "df_test.drop(\"Geography_France\", axis=1, inplace=True)\n",
    "\n",
    "df_test[\"Gender_\"] = lbe.fit_transform(df_test[\"Gender\"])\n",
    "\n",
    "df_test.drop(\"Gender\", axis=1, inplace=True)\n",
    "\n",
    "X_test = df_test.drop(\"Exited\", axis=1)      #Test datası\n",
    "Y_test=df_test[\"Exited\"]"
   ]
  },
  {
   "cell_type": "code",
   "execution_count": 83,
   "id": "b3d52cfc",
   "metadata": {},
   "outputs": [
    {
     "name": "stdout",
     "output_type": "stream",
     "text": [
      "X_test (2000, 11)\n",
      "Y_test (2000,)\n",
      "X (8000, 11)\n",
      "y (8000,)\n"
     ]
    }
   ],
   "source": [
    "print(\"X_test\",X_test.shape)\n",
    "print(\"Y_test\",Y_test.shape)\n",
    "print(\"X\",X.shape)\n",
    "print(\"y\",y.shape)"
   ]
  },
  {
   "cell_type": "code",
   "execution_count": 84,
   "id": "7dd1f056",
   "metadata": {},
   "outputs": [
    {
     "name": "stdout",
     "output_type": "stream",
     "text": [
      "cross_val_score(train): 0.8592500000000001\n",
      "cross_val_score(test): 0.8554999999999999\n",
      "accuracy_score(train): 0.915125\n",
      "accuracy_score(test): 0.8635\n",
      "              precision    recall  f1-score   support\n",
      "\n",
      "           0       0.89      0.94      0.92      1595\n",
      "           1       0.71      0.55      0.62       405\n",
      "\n",
      "    accuracy                           0.86      2000\n",
      "   macro avg       0.80      0.74      0.77      2000\n",
      "weighted avg       0.86      0.86      0.86      2000\n",
      "\n"
     ]
    }
   ],
   "source": [
    "lgbm_model=LGBMClassifier(random_state=1234567).fit(X,y)\n",
    "y_predd = lgbm_model.predict(X_test)\n",
    "\n",
    "cv_results = cross_val_score(lgbm_model, X,y, cv = 10, scoring= \"accuracy\")\n",
    "print(\"cross_val_score(train):\", cv_results.mean())\n",
    "\n",
    "cv_results = cross_val_score(lgbm_model, X_test,Y_test, cv = 10, scoring= \"accuracy\")\n",
    "print(\"cross_val_score(test):\", cv_results.mean())\n",
    "\n",
    "y_train_predd = lgbm_model.predict(X)\n",
    "print(\"accuracy_score(train):\",accuracy_score(y, y_train_predd))\n",
    "print(\"accuracy_score(test):\",accuracy_score(Y_test, y_predd))\n",
    "print(classification_report(Y_test, y_predd))"
   ]
  },
  {
   "cell_type": "code",
   "execution_count": 85,
   "id": "f69a0583",
   "metadata": {
    "scrolled": true
   },
   "outputs": [
    {
     "name": "stdout",
     "output_type": "stream",
     "text": [
      "[[1506   89]\n",
      " [ 184  221]]\n"
     ]
    },
    {
     "data": {
      "image/png": "[encoded data removed]",
      "text/plain": [
       "<Figure size 432x288 with 2 Axes>"
      ]
     },
     "metadata": {
      "needs_background": "light"
     },
     "output_type": "display_data"
    }
   ],
   "source": [
    "cf_matrix_lgbmm = confusion_matrix(Y_test, y_predd)\n",
    "print(cf_matrix_lgbmm)\n",
    "sns.heatmap(cf_matrix_lgbmm/np.sum(cf_matrix_lgbmm), annot=True, \n",
    "            fmt='.2%', cmap='Blues');"
   ]
  },
  {
   "cell_type": "code",
   "execution_count": 86,
   "id": "396d2a4a",
   "metadata": {},
   "outputs": [
    {
     "data": {
      "image/png": "[encoded data removed]",
      "text/plain": [
       "<Figure size 360x360 with 2 Axes>"
      ]
     },
     "metadata": {
      "needs_background": "light"
     },
     "output_type": "display_data"
    }
   ],
   "source": [
    "y_predd = lgbm_model.predict(X_test)\n",
    "y_lgbm_truee=y_predd\n",
    "cm = confusion_matrix(Y_test,y_lgbm_truee)\n",
    "\n",
    "f, ax = plt.subplots(figsize =(5,5))\n",
    "sns.heatmap(cm,annot = True,linewidths=0.5,linecolor=\"red\",fmt = \".0f\",ax=ax)\n",
    "plt.xlabel(\"y_pred\")\n",
    "plt.ylabel(\"y_test\")\n",
    "plt.show()"
   ]
  },
  {
   "cell_type": "code",
   "execution_count": 87,
   "id": "93050b35",
   "metadata": {},
   "outputs": [
    {
     "data": {
      "image/png": "[encoded data removed]",
      "text/plain": [
       "<Figure size 432x288 with 1 Axes>"
      ]
     },
     "metadata": {
      "needs_background": "light"
     },
     "output_type": "display_data"
    }
   ],
   "source": [
    "lgbm_roc_auc = roc_auc_score(Y_test, lgbm_model.predict(X_test))\n",
    "\n",
    "fpr, tpr, thresholds = roc_curve(Y_test, lgbm_model.predict_proba(X_test)[:,1])\n",
    "plt.figure()\n",
    "plt.plot(fpr, tpr, label='AUC (area = %0.2f)' % lgbm_roc_auc)\n",
    "plt.plot([0, 1], [0, 1],'r--')\n",
    "plt.xlim([0.0, 1.0])\n",
    "plt.ylim([0.0, 1.05])\n",
    "plt.xlabel('False Positive Oranı')\n",
    "plt.ylabel('True Positive Oranı')\n",
    "plt.title('ROC')\n",
    "plt.show()"
   ]
  },
  {
   "cell_type": "code",
   "execution_count": 88,
   "id": "afcd994c",
   "metadata": {
    "scrolled": false
   },
   "outputs": [
    {
     "name": "stdout",
     "output_type": "stream",
     "text": [
      "Eğrinin altındaki alan (AUC) :  0.7449398196524634 \n",
      "\n"
     ]
    }
   ],
   "source": [
    "model_roc_auc = roc_auc_score(Y_test,y_predd) \n",
    "print (\"Eğrinin altındaki alan (AUC) : \",model_roc_auc,\"\\n\")\n",
    "fpr,tpr,thresholds = roc_curve(Y_test,y_predd)"
   ]
  },
  {
   "cell_type": "markdown",
   "id": "be1f2689",
   "metadata": {},
   "source": [
    "## RAPOR"
   ]
  },
  {
   "cell_type": "markdown",
   "id": "b12c4406",
   "metadata": {},
   "source": [
    "Müşterilerin bankayı terk edip etmemelerini tahmin etmek için oluşturulan ve grafiklerle veriyi anlamaya çalışıp bir takım nesnel yorumlar getirdikten sonra veri önişleme ile veriler düzenlenip modele uygun hale getirildi.İlk aşamada birçok modelin accuracy ve cross-validation skorlarına bakıp en yüksek sonucu veren Random-Forest,Gradient Boosting ve Lightgbm modellerine daha detaylı bakılarak model için son aşamada Lightgbm modeli seçilmiştir.Eğitim setimizin hiç görmediği test setimizle model performansını değerlendirdiğimizde ortaya çıkan sonuçlar aşağıdaki gibidir.\n",
    "\n",
    "- **LightGBM modelinde;**\n",
    "  \n",
    "  \n",
    "  *Accuracy skoru % 86.3*\n",
    "  \n",
    "  *Cross val. skoru % 85.5 olarak ölçülmüştür.*\n",
    "\n",
    "- **Doğru tahmin edilenler**   --> %86.35 (2000 tahminden 1727 tanesi doğru)\n",
    " \n",
    "  *True Negative --> %75.30 --> Churn olmayacağı tahmin edilenler ve churn olmayanlar.*\n",
    "  \n",
    "  *True Positive --> %11.05  --> Churn olacağı tahmin edilen ve churn olanlar.*\n",
    "  \n",
    "\n",
    "- **Yanlış tahmin edilenler**   --> %13.65 (2000 tahminden 273 tanesi yanlış)\n",
    "\n",
    "   *False Positive --> %4.45  --> Churn olacağı tahmin edilen ama churn olmayanlar.*\n",
    "   \n",
    "   *False Negative --> %9.20 --> Churn olmayacağı tahmin edilen ama churn olanlar.*\n",
    "  \n",
    "\n",
    "\n",
    "- **Churn olmayanlar**\n",
    "  \n",
    "  *Gerçek test veri setinde (0)            --> 1595*\n",
    "  \n",
    "  *Test veri seti içinde tahmin edilen (0) --> 1690*\n",
    "\n",
    "\n",
    "- **Churn olanlar**\n",
    "  \n",
    "  *Gerçek test veri setinde (1)            --> 405*\n",
    "  \n",
    "  *Test veri seti içinde tahmin edilen (1) --> 310*\n",
    "  \n",
    "Değerlere baktığımızda sonuçlar iyi görünüyor. Ancak sadece bu değerlere bakarak kesin bir yorum yapılamaz.Çünkü bankada churn olan müşterilerin sayısı churn olmayanlara göre daha az ve az olan bu verinin doğru tahminler yapması bizim için daha değerli olduğu için modelin doğruluğunu ne kadar çok metrikle ölçersek daha doğru sonuçlar elde ederiz.Model başarısını ölçmek için özellikle recall ve f1 skorlarının yüksek çıkması istenen sonuçlardır. Çünkü hedefimiz gerçekten churn olan müşterileri doğru tahmin edip yeni müşteriler üzerinde de bu başarıyı sağlayarak gerekli önlemleri almaktır.Eğitim setinde recall skorunu %68 başarı ile doğru tahmin ederek, modelin hiç görmediği test setiyle değerlendirdiğimizde gerçek churn olan müşterilerden %55'i (recall skoru) doğru tahmin edilmiştir ve bu değer modelin aslında başarılı olmadığını gösterir.Model performansını yükseltmek için veri önişleme aşamasına gidip veri üzerinde bir takım ekleme-çıkarmalar yaparak ya da makine öğrenmesi modellerini farklı parametrelerle tekrar modeli kurma gibi adımlar takip edilmelidir."
   ]
  },
  {
   "cell_type": "code",
   "execution_count": null,
   "id": "22d09941",
   "metadata": {},
   "outputs": [],
   "source": []
  }
 ],
 "metadata": {
  "kernelspec": {
   "display_name": "Python 3 (ipykernel)",
   "language": "python",
   "name": "python3"
  },
  "language_info": {
   "codemirror_mode": {
    "name": "ipython",
    "version": 3
   },
   "file_extension": ".py",
   "mimetype": "text/x-python",
   "name": "python",
   "nbconvert_exporter": "python",
   "pygments_lexer": "ipython3",
   "version": "3.9.12"
  }
 },
 "nbformat": 4,
 "nbformat_minor": 5
}
